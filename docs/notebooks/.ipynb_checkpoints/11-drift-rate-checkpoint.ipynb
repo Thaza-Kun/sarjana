{
 "cells": [
  {
   "cell_type": "code",
   "execution_count": 1,
   "id": "092690b2-dd79-4dfb-9e7c-220f2ba68c9f",
   "metadata": {},
   "outputs": [],
   "source": [
    "import os\n",
    "from pathlib import Path\n",
    "\n",
    "import numpy as np\n",
    "\n",
    "\n",
    "dedispersed_intensity = np.load(Path(os.getenv('DATAPATH'), '23891929_DM348.8_waterfall.npy'))"
   ]
  },
  {
   "cell_type": "code",
   "execution_count": 2,
   "id": "3fe567c0-3db8-4e45-8f2e-342f42af77cf",
   "metadata": {},
   "outputs": [],
   "source": [
    "import dfdt\n",
    "\n",
    "# burst parameters\n",
    "dm_uncertainty = 0.2  # pc cm-3\n",
    "source = \"R3\"\n",
    "eventid = \"23891929\"\n",
    "\n",
    "# instrument parameters\n",
    "dt_s = 0.00098304\n",
    "df_mhz = 0.0244140625\n",
    "nchan = 16384\n",
    "freq_bottom_mhz = 400.1953125\n",
    "freq_top_mhz = 800.1953125\n",
    "\n",
    "ds = dfdt.DynamicSpectrum(dt_s, df_mhz, nchan, freq_bottom_mhz, freq_top_mhz)"
   ]
  },
  {
   "cell_type": "code",
   "execution_count": 3,
   "id": "36e0e09f-940e-434b-8be4-f6dc826b7b49",
   "metadata": {},
   "outputs": [],
   "source": [
    "import pandas as pd\n",
    "\n",
    "data = pd.read_parquet(Path(os.getenv('DATAPATH'), 'raw', 'cfod', 'chimefrb_profile.parquet'))"
   ]
  },
  {
   "cell_type": "code",
   "execution_count": 4,
   "id": "f2583cd2-9b49-45ec-850a-420fa5f326dd",
   "metadata": {},
   "outputs": [],
   "source": [
    "with open('./results/dfdt.csv', 'a') as f:\n",
    "    f.write('eventname,constrained,dfdt_data,dfdt_mc,dfdt_mc_low,dfdt_mc_high\\n')"
   ]
  },
  {
   "cell_type": "code",
   "execution_count": 5,
   "id": "468f83ae-ba68-4099-8976-a25975b0ec76",
   "metadata": {},
   "outputs": [
    {
     "name": "stdout",
     "output_type": "stream",
     "text": [
      "FRB20181128A -- FRB20181128A_1 -- Analyzing..\n",
      "FRB20181128A -- FRB20181128A_1 -- df/dt (data) = -0.04 MHz/ms\n",
      "FRB20181128A -- FRB20181128A_1 -- Resampling data..\n"
     ]
    },
    {
     "name": "stderr",
     "output_type": "stream",
     "text": [
      "D:\\home\\lab\\sarjana\\.venv\\lib\\site-packages\\numpy\\lib\\nanfunctions.py:1556: RuntimeWarning: All-NaN slice encountered\n",
      "  return function_base._ureduce(a,\n"
     ]
    },
    {
     "name": "stdout",
     "output_type": "stream",
     "text": [
      "FRB20181128A -- FRB20181128A_1 -- Resampling data..\n",
      "\n",
      "FRB20180917A -- FRB20180917A_1 -- Analyzing..\n"
     ]
    },
    {
     "ename": "ValueError",
     "evalue": "negative dimensions are not allowed",
     "output_type": "error",
     "traceback": [
      "\u001b[1;31m---------------------------------------------------------------------------\u001b[0m",
      "\u001b[1;31mValueError\u001b[0m                                Traceback (most recent call last)",
      "Cell \u001b[1;32mIn[5], line 12\u001b[0m\n\u001b[0;32m     10\u001b[0m \u001b[38;5;28;01mfor\u001b[39;00m i, (peak, width) \u001b[38;5;129;01min\u001b[39;00m \u001b[38;5;28menumerate\u001b[39m(\u001b[38;5;28mzip\u001b[39m(burst\u001b[38;5;241m.\u001b[39mpeaks[:\u001b[38;5;241m-\u001b[39m\u001b[38;5;241m1\u001b[39m], burst\u001b[38;5;241m.\u001b[39mwidths[:\u001b[38;5;241m-\u001b[39m\u001b[38;5;241m1\u001b[39m]), \u001b[38;5;241m1\u001b[39m):\n\u001b[0;32m     11\u001b[0m     subburstname \u001b[38;5;241m=\u001b[39m \u001b[38;5;124mf\u001b[39m\u001b[38;5;124m'\u001b[39m\u001b[38;5;132;01m{\u001b[39;00mburst\u001b[38;5;241m.\u001b[39meventname\u001b[38;5;132;01m}\u001b[39;00m\u001b[38;5;124m_\u001b[39m\u001b[38;5;132;01m{\u001b[39;00mi\u001b[38;5;132;01m}\u001b[39;00m\u001b[38;5;124m'\u001b[39m\n\u001b[1;32m---> 12\u001b[0m     dfdt_data, theta, theta_sigma \u001b[38;5;241m=\u001b[39m \u001b[43manalyze\u001b[49m\u001b[38;5;241;43m.\u001b[39;49m\u001b[43mfrequency_drift_by_autocorrelation\u001b[49m\u001b[43m(\u001b[49m\u001b[43mburst\u001b[49m\u001b[38;5;241;43m.\u001b[39;49m\u001b[43mwfall\u001b[49m\u001b[43m,\u001b[49m\u001b[43m \u001b[49m\u001b[43mburst\u001b[49m\u001b[38;5;241;43m.\u001b[39;49m\u001b[43meventname\u001b[49m\u001b[43m,\u001b[49m\u001b[43m \u001b[49m\u001b[43msubburstname\u001b[49m\u001b[43m,\u001b[49m\u001b[43m \u001b[49m\u001b[43mds\u001b[49m\u001b[43m,\u001b[49m\u001b[43m \u001b[49m\u001b[43mpeak\u001b[49m\u001b[43m,\u001b[49m\u001b[43m \u001b[49m\u001b[43mwidth\u001b[49m\u001b[43m)\u001b[49m\n\u001b[0;32m     13\u001b[0m     \u001b[38;5;28;01mtry\u001b[39;00m:\n\u001b[0;32m     14\u001b[0m         constrained, dfdt_mc, dfdt_mc_low, dfdt_mc_high \u001b[38;5;241m=\u001b[39m analyze\u001b[38;5;241m.\u001b[39mfrequency_drift_by_acmc(\n\u001b[0;32m     15\u001b[0m                 burst\u001b[38;5;241m.\u001b[39mwfall, dm_uncertainty, ds, peak, width, dfdt_data, theta, theta_sigma, burst\u001b[38;5;241m.\u001b[39meventname, subburstname\n\u001b[0;32m     16\u001b[0m         )\n",
      "File \u001b[1;32mD:\\home\\lab\\sarjana\\sarjana\\signal\\analyze.py:136\u001b[0m, in \u001b[0;36mfrequency_drift_by_autocorrelation\u001b[1;34m(dedispersed_intensity, source, eventid, ds, peak, width, sub_factor, fdir)\u001b[0m\n\u001b[0;32m    131\u001b[0m \u001b[38;5;28;01melse\u001b[39;00m:\n\u001b[0;32m    132\u001b[0m     noise_waterfall \u001b[38;5;241m=\u001b[39m copy\u001b[38;5;241m.\u001b[39mdeepcopy(\n\u001b[0;32m    133\u001b[0m         sub[\u001b[38;5;241m.\u001b[39m\u001b[38;5;241m.\u001b[39m\u001b[38;5;241m.\u001b[39m,noise_window[\u001b[38;5;241m0\u001b[39m] : noise_window[\u001b[38;5;241m1\u001b[39m]]\n\u001b[0;32m    134\u001b[0m     )\n\u001b[1;32m--> 136\u001b[0m ac2d \u001b[38;5;241m=\u001b[39m \u001b[43mscipy\u001b[49m\u001b[38;5;241;43m.\u001b[39;49m\u001b[43msignal\u001b[49m\u001b[38;5;241;43m.\u001b[39;49m\u001b[43mcorrelate2d\u001b[49m\u001b[43m(\u001b[49m\n\u001b[0;32m    137\u001b[0m \u001b[43m    \u001b[49m\u001b[43mwaterfall\u001b[49m\u001b[43m,\u001b[49m\u001b[43m \u001b[49m\u001b[43mwaterfall\u001b[49m\u001b[43m,\u001b[49m\u001b[43m \u001b[49m\u001b[43mmode\u001b[49m\u001b[38;5;241;43m=\u001b[39;49m\u001b[38;5;124;43m\"\u001b[39;49m\u001b[38;5;124;43mfull\u001b[39;49m\u001b[38;5;124;43m\"\u001b[39;49m\u001b[43m,\u001b[49m\u001b[43m \u001b[49m\u001b[43mboundary\u001b[49m\u001b[38;5;241;43m=\u001b[39;49m\u001b[38;5;124;43m\"\u001b[39;49m\u001b[38;5;124;43mfill\u001b[39;49m\u001b[38;5;124;43m\"\u001b[39;49m\u001b[43m,\u001b[49m\u001b[43m \u001b[49m\u001b[43mfillvalue\u001b[49m\u001b[38;5;241;43m=\u001b[39;49m\u001b[38;5;241;43m0\u001b[39;49m\n\u001b[0;32m    138\u001b[0m \u001b[43m\u001b[49m\u001b[43m)\u001b[49m\n\u001b[0;32m    140\u001b[0m ac2d[ac2d\u001b[38;5;241m.\u001b[39mshape[\u001b[38;5;241m0\u001b[39m] \u001b[38;5;241m/\u001b[39m\u001b[38;5;241m/\u001b[39m \u001b[38;5;241m2\u001b[39m, :] \u001b[38;5;241m=\u001b[39m np\u001b[38;5;241m.\u001b[39mnan\n\u001b[0;32m    141\u001b[0m ac2d[:, ac2d\u001b[38;5;241m.\u001b[39mshape[\u001b[38;5;241m1\u001b[39m] \u001b[38;5;241m/\u001b[39m\u001b[38;5;241m/\u001b[39m \u001b[38;5;241m2\u001b[39m] \u001b[38;5;241m=\u001b[39m np\u001b[38;5;241m.\u001b[39mnan\n",
      "File \u001b[1;32mD:\\home\\lab\\sarjana\\.venv\\lib\\site-packages\\scipy\\signal\\_signaltools.py:1814\u001b[0m, in \u001b[0;36mcorrelate2d\u001b[1;34m(in1, in2, mode, boundary, fillvalue)\u001b[0m\n\u001b[0;32m   1812\u001b[0m val \u001b[38;5;241m=\u001b[39m _valfrommode(mode)\n\u001b[0;32m   1813\u001b[0m bval \u001b[38;5;241m=\u001b[39m _bvalfromboundary(boundary)\n\u001b[1;32m-> 1814\u001b[0m out \u001b[38;5;241m=\u001b[39m \u001b[43m_sigtools\u001b[49m\u001b[38;5;241;43m.\u001b[39;49m\u001b[43m_convolve2d\u001b[49m\u001b[43m(\u001b[49m\u001b[43min1\u001b[49m\u001b[43m,\u001b[49m\u001b[43m \u001b[49m\u001b[43min2\u001b[49m\u001b[38;5;241;43m.\u001b[39;49m\u001b[43mconj\u001b[49m\u001b[43m(\u001b[49m\u001b[43m)\u001b[49m\u001b[43m,\u001b[49m\u001b[43m \u001b[49m\u001b[38;5;241;43m0\u001b[39;49m\u001b[43m,\u001b[49m\u001b[43m \u001b[49m\u001b[43mval\u001b[49m\u001b[43m,\u001b[49m\u001b[43m \u001b[49m\u001b[43mbval\u001b[49m\u001b[43m,\u001b[49m\u001b[43m \u001b[49m\u001b[43mfillvalue\u001b[49m\u001b[43m)\u001b[49m\n\u001b[0;32m   1816\u001b[0m \u001b[38;5;28;01mif\u001b[39;00m swapped_inputs:\n\u001b[0;32m   1817\u001b[0m     out \u001b[38;5;241m=\u001b[39m out[::\u001b[38;5;241m-\u001b[39m\u001b[38;5;241m1\u001b[39m, ::\u001b[38;5;241m-\u001b[39m\u001b[38;5;241m1\u001b[39m]\n",
      "\u001b[1;31mValueError\u001b[0m: negative dimensions are not allowed"
     ]
    },
    {
     "name": "stderr",
     "output_type": "stream",
     "text": [
      "posx and posy should be finite values\n",
      "posx and posy should be finite values\n",
      "posx and posy should be finite values\n",
      "posx and posy should be finite values\n",
      "posx and posy should be finite values\n",
      "posx and posy should be finite values\n",
      "posx and posy should be finite values\n",
      "posx and posy should be finite values\n",
      "posx and posy should be finite values\n"
     ]
    },
    {
     "data": {
      "image/png": "[encoded data removed]",
      "text/plain": [
       "<Figure size 640x480 with 1 Axes>"
      ]
     },
     "metadata": {},
     "output_type": "display_data"
    }
   ],
   "source": [
    "from datetime import datetime\n",
    "\n",
    "from sarjana.handlers import ParquetWaterfall\n",
    "from sarjana.signal import analyze\n",
    "\n",
    "start = datetime.now()\n",
    "for event in data['eventname']:\n",
    "    burst = ParquetWaterfall(Path(os.getenv('DATAPATH'), 'raw', 'wfall', f'{event}_waterfall.h5.parquet'))\n",
    "    if len(burst.peaks) > 1:\n",
    "        for i, (peak, width) in enumerate(zip(burst.peaks[:-1], burst.widths[:-1]), 1):\n",
    "            subburstname = f'{burst.eventname}_{i}'\n",
    "            try:\n",
    "                dfdt_data, theta, theta_sigma = analyze.frequency_drift_by_autocorrelation(burst.wfall, burst.eventname, subburstname, ds, peak, width)\n",
    "            except ValueError:\n",
    "                with open('./results/dfdt.csv', 'a') as f:\n",
    "                    f.write('{},{},{},{},{},{}\\n'.format(subburstname,constrained,dfdt_data,dfdt_mc,dfdt_mc_low,dfdt_mc_high))\n",
    "                continue\n",
    "            try:\n",
    "                constrained, dfdt_mc, dfdt_mc_low, dfdt_mc_high = analyze.frequency_drift_by_acmc(\n",
    "                        burst.wfall, dm_uncertainty, ds, peak, width, dfdt_data, theta, theta_sigma, burst.eventname, subburstname\n",
    "                )\n",
    "            except ValueError:\n",
    "                constrained, dfdt_mc, dfdt_mc_low, dfdt_mc_high = analyze.frequency_drift_by_acmc(\n",
    "                        burst.wfall, dm_uncertainty, ds, peak, width, dfdt_data, theta, theta_sigma, burst.eventname, subburstname, plot_result=False\n",
    "                )\n",
    "            finally:\n",
    "                with open('./results/dfdt.csv', 'a') as f:\n",
    "                    f.write('{},{},{},{},{},{}\\n'.format(subburstname,constrained,dfdt_data,dfdt_mc,dfdt_mc_low,dfdt_mc_high))\n",
    "            print('\\r')\n",
    "end = datetime.end()"
   ]
  },
  {
   "cell_type": "code",
   "execution_count": null,
   "id": "2d89d4e3-a5ed-4368-8e31-feb7584f8eab",
   "metadata": {},
   "outputs": [],
   "source": [
    "print((end-start).seconds/3600)"
   ]
  },
  {
   "cell_type": "code",
   "execution_count": 13,
   "id": "c17aedae-423c-42b2-8226-5f554cfa8c66",
   "metadata": {},
   "outputs": [
    {
     "name": "stdout",
     "output_type": "stream",
     "text": [
      "R3 -- 23891929 -- Analyzing..\n",
      "R3 -- 23891929 -- df/dt (data) = -21.12 MHz/ms\n",
      "R3 -- 23891929 -- Resampling data..\n",
      "R3 -- 23891929 -- df/dt (68.0%) = -21.12-22.03+4.32 MHz/ms\n",
      "40min 18s ± 0 ns per loop (mean ± std. dev. of 1 run, 1 loop each)\n"
     ]
    }
   ],
   "source": [
    "%timeit -r 1 -n 1 (constrained, dfdt_data, dfdt_mc, dfdt_mc_low, dfdt_mc_high) = dfdt.ac_mc_drift(dedispersed_intensity, dm_uncertainty, source, eventid, ds, dm_trials=100, mc_trials=100)"
   ]
  },
  {
   "cell_type": "code",
   "execution_count": 6,
   "id": "7fc7fac4-3e81-427e-8001-75e653418d88",
   "metadata": {},
   "outputs": [],
   "source": [
    "from sarjana.handlers import ParquetWaterfall\n",
    "\n",
    "burst = ParquetWaterfall(Path(os.getenv('DATAPATH'), 'raw', 'wfall', 'FRB20190422A_waterfall.h5.parquet'))"
   ]
  },
  {
   "cell_type": "code",
   "execution_count": 7,
   "id": "2af175e3-8bbf-411d-80c6-513802217d5c",
   "metadata": {},
   "outputs": [
    {
     "name": "stdout",
     "output_type": "stream",
     "text": [
      "FRB20190422A_1 -- FRB20190422A_1 -- Analyzing..\n"
     ]
    },
    {
     "name": "stderr",
     "output_type": "stream",
     "text": [
      "D:\\home\\lab\\sarjana\\.venv\\lib\\site-packages\\scipy\\optimize\\_minpack_py.py:881: OptimizeWarning: Covariance of the parameters could not be estimated\n",
      "  warnings.warn('Covariance of the parameters could not be estimated',\n"
     ]
    },
    {
     "name": "stdout",
     "output_type": "stream",
     "text": [
      "FRB20190422A_1 -- FRB20190422A_1 -- df/dt (data) = -2.39 MHz/ms\n",
      "FRB20190422A_1 -- FRB20190422A_1 -- Resampling data..\n"
     ]
    },
    {
     "name": "stderr",
     "output_type": "stream",
     "text": [
      "D:\\home\\lab\\sarjana\\.venv\\lib\\site-packages\\numpy\\lib\\nanfunctions.py:1556: RuntimeWarning: All-NaN slice encountered\n",
      "  return function_base._ureduce(a,\n"
     ]
    },
    {
     "ename": "ValueError",
     "evalue": "Axis limits cannot be NaN or Inf",
     "output_type": "error",
     "traceback": [
      "\u001b[1;31m---------------------------------------------------------------------------\u001b[0m",
      "\u001b[1;31mValueError\u001b[0m                                Traceback (most recent call last)",
      "Cell \u001b[1;32mIn[7], line 1\u001b[0m\n\u001b[1;32m----> 1\u001b[0m \u001b[43mget_ipython\u001b[49m\u001b[43m(\u001b[49m\u001b[43m)\u001b[49m\u001b[38;5;241;43m.\u001b[39;49m\u001b[43mrun_line_magic\u001b[49m\u001b[43m(\u001b[49m\u001b[38;5;124;43m'\u001b[39;49m\u001b[38;5;124;43mtimeit\u001b[39;49m\u001b[38;5;124;43m'\u001b[39;49m\u001b[43m,\u001b[49m\u001b[43m \u001b[49m\u001b[38;5;124;43m\"\u001b[39;49m\u001b[38;5;124;43m-r 1 -n 1 [dfdt.ac_mc_drift(burst.wfall, dm_uncertainty, f\u001b[39;49m\u001b[38;5;124;43m'\u001b[39;49m\u001b[38;5;132;43;01m{burst.eventname}\u001b[39;49;00m\u001b[38;5;124;43m_\u001b[39;49m\u001b[38;5;132;43;01m{i}\u001b[39;49;00m\u001b[38;5;124;43m'\u001b[39;49m\u001b[38;5;124;43m, f\u001b[39;49m\u001b[38;5;124;43m'\u001b[39;49m\u001b[38;5;132;43;01m{burst.eventname}\u001b[39;49;00m\u001b[38;5;124;43m_\u001b[39;49m\u001b[38;5;132;43;01m{i}\u001b[39;49;00m\u001b[38;5;124;43m'\u001b[39;49m\u001b[38;5;124;43m, ds, dm_trials=100, mc_trials=100, peak=peak, width=width) for i, (peak, width) in enumerate(zip(burst.peaks[:-1], burst.widths[:-1]), 1)]\u001b[39;49m\u001b[38;5;124;43m\"\u001b[39;49m\u001b[43m)\u001b[49m\n",
      "File \u001b[1;32mD:\\home\\lab\\sarjana\\.venv\\lib\\site-packages\\IPython\\core\\interactiveshell.py:2364\u001b[0m, in \u001b[0;36mInteractiveShell.run_line_magic\u001b[1;34m(self, magic_name, line, _stack_depth)\u001b[0m\n\u001b[0;32m   2362\u001b[0m     kwargs[\u001b[38;5;124m'\u001b[39m\u001b[38;5;124mlocal_ns\u001b[39m\u001b[38;5;124m'\u001b[39m] \u001b[38;5;241m=\u001b[39m \u001b[38;5;28mself\u001b[39m\u001b[38;5;241m.\u001b[39mget_local_scope(stack_depth)\n\u001b[0;32m   2363\u001b[0m \u001b[38;5;28;01mwith\u001b[39;00m \u001b[38;5;28mself\u001b[39m\u001b[38;5;241m.\u001b[39mbuiltin_trap:\n\u001b[1;32m-> 2364\u001b[0m     result \u001b[38;5;241m=\u001b[39m \u001b[43mfn\u001b[49m\u001b[43m(\u001b[49m\u001b[38;5;241;43m*\u001b[39;49m\u001b[43margs\u001b[49m\u001b[43m,\u001b[49m\u001b[43m \u001b[49m\u001b[38;5;241;43m*\u001b[39;49m\u001b[38;5;241;43m*\u001b[39;49m\u001b[43mkwargs\u001b[49m\u001b[43m)\u001b[49m\n\u001b[0;32m   2365\u001b[0m \u001b[38;5;28;01mreturn\u001b[39;00m result\n",
      "File \u001b[1;32mD:\\home\\lab\\sarjana\\.venv\\lib\\site-packages\\IPython\\core\\magics\\execution.py:1166\u001b[0m, in \u001b[0;36mExecutionMagics.timeit\u001b[1;34m(self, line, cell, local_ns)\u001b[0m\n\u001b[0;32m   1163\u001b[0m         \u001b[38;5;28;01mif\u001b[39;00m time_number \u001b[38;5;241m>\u001b[39m\u001b[38;5;241m=\u001b[39m \u001b[38;5;241m0.2\u001b[39m:\n\u001b[0;32m   1164\u001b[0m             \u001b[38;5;28;01mbreak\u001b[39;00m\n\u001b[1;32m-> 1166\u001b[0m all_runs \u001b[38;5;241m=\u001b[39m \u001b[43mtimer\u001b[49m\u001b[38;5;241;43m.\u001b[39;49m\u001b[43mrepeat\u001b[49m\u001b[43m(\u001b[49m\u001b[43mrepeat\u001b[49m\u001b[43m,\u001b[49m\u001b[43m \u001b[49m\u001b[43mnumber\u001b[49m\u001b[43m)\u001b[49m\n\u001b[0;32m   1167\u001b[0m best \u001b[38;5;241m=\u001b[39m \u001b[38;5;28mmin\u001b[39m(all_runs) \u001b[38;5;241m/\u001b[39m number\n\u001b[0;32m   1168\u001b[0m worst \u001b[38;5;241m=\u001b[39m \u001b[38;5;28mmax\u001b[39m(all_runs) \u001b[38;5;241m/\u001b[39m number\n",
      "File \u001b[1;32m~\\.pyenv\\pyenv-win\\versions\\3.8.10\\lib\\timeit.py:205\u001b[0m, in \u001b[0;36mTimer.repeat\u001b[1;34m(self, repeat, number)\u001b[0m\n\u001b[0;32m    203\u001b[0m r \u001b[38;5;241m=\u001b[39m []\n\u001b[0;32m    204\u001b[0m \u001b[38;5;28;01mfor\u001b[39;00m i \u001b[38;5;129;01min\u001b[39;00m \u001b[38;5;28mrange\u001b[39m(repeat):\n\u001b[1;32m--> 205\u001b[0m     t \u001b[38;5;241m=\u001b[39m \u001b[38;5;28;43mself\u001b[39;49m\u001b[38;5;241;43m.\u001b[39;49m\u001b[43mtimeit\u001b[49m\u001b[43m(\u001b[49m\u001b[43mnumber\u001b[49m\u001b[43m)\u001b[49m\n\u001b[0;32m    206\u001b[0m     r\u001b[38;5;241m.\u001b[39mappend(t)\n\u001b[0;32m    207\u001b[0m \u001b[38;5;28;01mreturn\u001b[39;00m r\n",
      "File \u001b[1;32mD:\\home\\lab\\sarjana\\.venv\\lib\\site-packages\\IPython\\core\\magics\\execution.py:156\u001b[0m, in \u001b[0;36mTimer.timeit\u001b[1;34m(self, number)\u001b[0m\n\u001b[0;32m    154\u001b[0m gc\u001b[38;5;241m.\u001b[39mdisable()\n\u001b[0;32m    155\u001b[0m \u001b[38;5;28;01mtry\u001b[39;00m:\n\u001b[1;32m--> 156\u001b[0m     timing \u001b[38;5;241m=\u001b[39m \u001b[38;5;28;43mself\u001b[39;49m\u001b[38;5;241;43m.\u001b[39;49m\u001b[43minner\u001b[49m\u001b[43m(\u001b[49m\u001b[43mit\u001b[49m\u001b[43m,\u001b[49m\u001b[43m \u001b[49m\u001b[38;5;28;43mself\u001b[39;49m\u001b[38;5;241;43m.\u001b[39;49m\u001b[43mtimer\u001b[49m\u001b[43m)\u001b[49m\n\u001b[0;32m    157\u001b[0m \u001b[38;5;28;01mfinally\u001b[39;00m:\n\u001b[0;32m    158\u001b[0m     \u001b[38;5;28;01mif\u001b[39;00m gcold:\n",
      "File \u001b[1;32m<magic-timeit>:1\u001b[0m, in \u001b[0;36minner\u001b[1;34m(_it, _timer)\u001b[0m\n",
      "File \u001b[1;32m<magic-timeit>:1\u001b[0m, in \u001b[0;36m<listcomp>\u001b[1;34m(.0)\u001b[0m\n",
      "File \u001b[1;32mD:\\home\\lab\\sarjana\\.venv\\lib\\site-packages\\dfdt\\ac_mc_drift.py:789\u001b[0m, in \u001b[0;36mac_mc_drift\u001b[1;34m(dedispersed_intensity, dm_uncertainty, source, eventid, ds, sub_factor, dm_trials, mc_trials, detection_confidence, uncertainty_confidence, plot_result, plot_all, peak, width, fdir)\u001b[0m\n\u001b[0;32m    783\u001b[0m xlim_low \u001b[38;5;241m=\u001b[39m np\u001b[38;5;241m.\u001b[39mnanpercentile(\n\u001b[0;32m    784\u001b[0m     thetas, (\u001b[38;5;241m100.0\u001b[39m \u001b[38;5;241m-\u001b[39m detection_confidence) \u001b[38;5;241m/\u001b[39m \u001b[38;5;241m2.0\u001b[39m\n\u001b[0;32m    785\u001b[0m )\n\u001b[0;32m    786\u001b[0m xlim_high \u001b[38;5;241m=\u001b[39m np\u001b[38;5;241m.\u001b[39mnanpercentile(\n\u001b[0;32m    787\u001b[0m     thetas, \u001b[38;5;241m100.0\u001b[39m \u001b[38;5;241m-\u001b[39m (\u001b[38;5;241m100.0\u001b[39m \u001b[38;5;241m-\u001b[39m detection_confidence) \u001b[38;5;241m/\u001b[39m \u001b[38;5;241m2.0\u001b[39m\n\u001b[0;32m    788\u001b[0m )\n\u001b[1;32m--> 789\u001b[0m \u001b[43mplt\u001b[49m\u001b[38;5;241;43m.\u001b[39;49m\u001b[43mxlim\u001b[49m\u001b[43m(\u001b[49m\u001b[43mxlim_low\u001b[49m\u001b[43m,\u001b[49m\u001b[43m \u001b[49m\u001b[43mxlim_high\u001b[49m\u001b[43m)\u001b[49m\n\u001b[0;32m    791\u001b[0m \u001b[38;5;66;03m# check if angles are in the same quadrant of the unit circle\u001b[39;00m\n\u001b[0;32m    792\u001b[0m \u001b[38;5;28;01mif\u001b[39;00m \u001b[38;5;28mint\u001b[39m(np\u001b[38;5;241m.\u001b[39mceil(\u001b[38;5;241m2\u001b[39m \u001b[38;5;241m*\u001b[39m xlim_low \u001b[38;5;241m/\u001b[39m np\u001b[38;5;241m.\u001b[39mpi)) \\\n\u001b[0;32m    793\u001b[0m     \u001b[38;5;241m==\u001b[39m \u001b[38;5;28mint\u001b[39m(np\u001b[38;5;241m.\u001b[39mceil(\u001b[38;5;241m2\u001b[39m \u001b[38;5;241m*\u001b[39m xlim_high \u001b[38;5;241m/\u001b[39m np\u001b[38;5;241m.\u001b[39mpi)):\n",
      "File \u001b[1;32mD:\\home\\lab\\sarjana\\.venv\\lib\\site-packages\\matplotlib\\pyplot.py:1725\u001b[0m, in \u001b[0;36mxlim\u001b[1;34m(*args, **kwargs)\u001b[0m\n\u001b[0;32m   1723\u001b[0m \u001b[38;5;28;01mif\u001b[39;00m \u001b[38;5;129;01mnot\u001b[39;00m args \u001b[38;5;129;01mand\u001b[39;00m \u001b[38;5;129;01mnot\u001b[39;00m kwargs:\n\u001b[0;32m   1724\u001b[0m     \u001b[38;5;28;01mreturn\u001b[39;00m ax\u001b[38;5;241m.\u001b[39mget_xlim()\n\u001b[1;32m-> 1725\u001b[0m ret \u001b[38;5;241m=\u001b[39m \u001b[43max\u001b[49m\u001b[38;5;241;43m.\u001b[39;49m\u001b[43mset_xlim\u001b[49m\u001b[43m(\u001b[49m\u001b[38;5;241;43m*\u001b[39;49m\u001b[43margs\u001b[49m\u001b[43m,\u001b[49m\u001b[43m \u001b[49m\u001b[38;5;241;43m*\u001b[39;49m\u001b[38;5;241;43m*\u001b[39;49m\u001b[43mkwargs\u001b[49m\u001b[43m)\u001b[49m\n\u001b[0;32m   1726\u001b[0m \u001b[38;5;28;01mreturn\u001b[39;00m ret\n",
      "File \u001b[1;32mD:\\home\\lab\\sarjana\\.venv\\lib\\site-packages\\matplotlib\\_api\\deprecation.py:454\u001b[0m, in \u001b[0;36mmake_keyword_only.<locals>.wrapper\u001b[1;34m(*args, **kwargs)\u001b[0m\n\u001b[0;32m    448\u001b[0m \u001b[38;5;28;01mif\u001b[39;00m \u001b[38;5;28mlen\u001b[39m(args) \u001b[38;5;241m>\u001b[39m name_idx:\n\u001b[0;32m    449\u001b[0m     warn_deprecated(\n\u001b[0;32m    450\u001b[0m         since, message\u001b[38;5;241m=\u001b[39m\u001b[38;5;124m\"\u001b[39m\u001b[38;5;124mPassing the \u001b[39m\u001b[38;5;132;01m%(name)s\u001b[39;00m\u001b[38;5;124m \u001b[39m\u001b[38;5;132;01m%(obj_type)s\u001b[39;00m\u001b[38;5;124m \u001b[39m\u001b[38;5;124m\"\u001b[39m\n\u001b[0;32m    451\u001b[0m         \u001b[38;5;124m\"\u001b[39m\u001b[38;5;124mpositionally is deprecated since Matplotlib \u001b[39m\u001b[38;5;132;01m%(since)s\u001b[39;00m\u001b[38;5;124m; the \u001b[39m\u001b[38;5;124m\"\u001b[39m\n\u001b[0;32m    452\u001b[0m         \u001b[38;5;124m\"\u001b[39m\u001b[38;5;124mparameter will become keyword-only \u001b[39m\u001b[38;5;132;01m%(removal)s\u001b[39;00m\u001b[38;5;124m.\u001b[39m\u001b[38;5;124m\"\u001b[39m,\n\u001b[0;32m    453\u001b[0m         name\u001b[38;5;241m=\u001b[39mname, obj_type\u001b[38;5;241m=\u001b[39m\u001b[38;5;124mf\u001b[39m\u001b[38;5;124m\"\u001b[39m\u001b[38;5;124mparameter of \u001b[39m\u001b[38;5;132;01m{\u001b[39;00mfunc\u001b[38;5;241m.\u001b[39m\u001b[38;5;18m__name__\u001b[39m\u001b[38;5;132;01m}\u001b[39;00m\u001b[38;5;124m()\u001b[39m\u001b[38;5;124m\"\u001b[39m)\n\u001b[1;32m--> 454\u001b[0m \u001b[38;5;28;01mreturn\u001b[39;00m \u001b[43mfunc\u001b[49m\u001b[43m(\u001b[49m\u001b[38;5;241;43m*\u001b[39;49m\u001b[43margs\u001b[49m\u001b[43m,\u001b[49m\u001b[43m \u001b[49m\u001b[38;5;241;43m*\u001b[39;49m\u001b[38;5;241;43m*\u001b[39;49m\u001b[43mkwargs\u001b[49m\u001b[43m)\u001b[49m\n",
      "File \u001b[1;32mD:\\home\\lab\\sarjana\\.venv\\lib\\site-packages\\matplotlib\\axes\\_base.py:3693\u001b[0m, in \u001b[0;36m_AxesBase.set_xlim\u001b[1;34m(self, left, right, emit, auto, xmin, xmax)\u001b[0m\n\u001b[0;32m   3691\u001b[0m         \u001b[38;5;28;01mraise\u001b[39;00m \u001b[38;5;167;01mTypeError\u001b[39;00m(\u001b[38;5;124m\"\u001b[39m\u001b[38;5;124mCannot pass both \u001b[39m\u001b[38;5;124m'\u001b[39m\u001b[38;5;124mright\u001b[39m\u001b[38;5;124m'\u001b[39m\u001b[38;5;124m and \u001b[39m\u001b[38;5;124m'\u001b[39m\u001b[38;5;124mxmax\u001b[39m\u001b[38;5;124m'\u001b[39m\u001b[38;5;124m\"\u001b[39m)\n\u001b[0;32m   3692\u001b[0m     right \u001b[38;5;241m=\u001b[39m xmax\n\u001b[1;32m-> 3693\u001b[0m \u001b[38;5;28;01mreturn\u001b[39;00m \u001b[38;5;28;43mself\u001b[39;49m\u001b[38;5;241;43m.\u001b[39;49m\u001b[43mxaxis\u001b[49m\u001b[38;5;241;43m.\u001b[39;49m\u001b[43m_set_lim\u001b[49m\u001b[43m(\u001b[49m\u001b[43mleft\u001b[49m\u001b[43m,\u001b[49m\u001b[43m \u001b[49m\u001b[43mright\u001b[49m\u001b[43m,\u001b[49m\u001b[43m \u001b[49m\u001b[43memit\u001b[49m\u001b[38;5;241;43m=\u001b[39;49m\u001b[43memit\u001b[49m\u001b[43m,\u001b[49m\u001b[43m \u001b[49m\u001b[43mauto\u001b[49m\u001b[38;5;241;43m=\u001b[39;49m\u001b[43mauto\u001b[49m\u001b[43m)\u001b[49m\n",
      "File \u001b[1;32mD:\\home\\lab\\sarjana\\.venv\\lib\\site-packages\\matplotlib\\axis.py:1112\u001b[0m, in \u001b[0;36mAxis._set_lim\u001b[1;34m(self, v0, v1, emit, auto)\u001b[0m\n\u001b[0;32m   1108\u001b[0m name, \u001b[38;5;241m=\u001b[39m [name \u001b[38;5;28;01mfor\u001b[39;00m name, axis \u001b[38;5;129;01min\u001b[39;00m \u001b[38;5;28mself\u001b[39m\u001b[38;5;241m.\u001b[39maxes\u001b[38;5;241m.\u001b[39m_axis_map\u001b[38;5;241m.\u001b[39mitems()\n\u001b[0;32m   1109\u001b[0m          \u001b[38;5;28;01mif\u001b[39;00m axis \u001b[38;5;129;01mis\u001b[39;00m \u001b[38;5;28mself\u001b[39m]  \u001b[38;5;66;03m# The axis name.\u001b[39;00m\n\u001b[0;32m   1111\u001b[0m \u001b[38;5;28mself\u001b[39m\u001b[38;5;241m.\u001b[39maxes\u001b[38;5;241m.\u001b[39m_process_unit_info([(name, (v0, v1))], convert\u001b[38;5;241m=\u001b[39m\u001b[38;5;28;01mFalse\u001b[39;00m)\n\u001b[1;32m-> 1112\u001b[0m v0 \u001b[38;5;241m=\u001b[39m \u001b[38;5;28;43mself\u001b[39;49m\u001b[38;5;241;43m.\u001b[39;49m\u001b[43maxes\u001b[49m\u001b[38;5;241;43m.\u001b[39;49m\u001b[43m_validate_converted_limits\u001b[49m\u001b[43m(\u001b[49m\u001b[43mv0\u001b[49m\u001b[43m,\u001b[49m\u001b[43m \u001b[49m\u001b[38;5;28;43mself\u001b[39;49m\u001b[38;5;241;43m.\u001b[39;49m\u001b[43mconvert_units\u001b[49m\u001b[43m)\u001b[49m\n\u001b[0;32m   1113\u001b[0m v1 \u001b[38;5;241m=\u001b[39m \u001b[38;5;28mself\u001b[39m\u001b[38;5;241m.\u001b[39maxes\u001b[38;5;241m.\u001b[39m_validate_converted_limits(v1, \u001b[38;5;28mself\u001b[39m\u001b[38;5;241m.\u001b[39mconvert_units)\n\u001b[0;32m   1115\u001b[0m \u001b[38;5;28;01mif\u001b[39;00m v0 \u001b[38;5;129;01mis\u001b[39;00m \u001b[38;5;28;01mNone\u001b[39;00m \u001b[38;5;129;01mor\u001b[39;00m v1 \u001b[38;5;129;01mis\u001b[39;00m \u001b[38;5;28;01mNone\u001b[39;00m:\n\u001b[0;32m   1116\u001b[0m     \u001b[38;5;66;03m# Axes init calls set_xlim(0, 1) before get_xlim() can be called,\u001b[39;00m\n\u001b[0;32m   1117\u001b[0m     \u001b[38;5;66;03m# so only grab the limits if we really need them.\u001b[39;00m\n",
      "File \u001b[1;32mD:\\home\\lab\\sarjana\\.venv\\lib\\site-packages\\matplotlib\\axes\\_base.py:3613\u001b[0m, in \u001b[0;36m_AxesBase._validate_converted_limits\u001b[1;34m(self, limit, convert)\u001b[0m\n\u001b[0;32m   3610\u001b[0m converted_limit \u001b[38;5;241m=\u001b[39m convert(limit)\n\u001b[0;32m   3611\u001b[0m \u001b[38;5;28;01mif\u001b[39;00m (\u001b[38;5;28misinstance\u001b[39m(converted_limit, Real)\n\u001b[0;32m   3612\u001b[0m         \u001b[38;5;129;01mand\u001b[39;00m \u001b[38;5;129;01mnot\u001b[39;00m np\u001b[38;5;241m.\u001b[39misfinite(converted_limit)):\n\u001b[1;32m-> 3613\u001b[0m     \u001b[38;5;28;01mraise\u001b[39;00m \u001b[38;5;167;01mValueError\u001b[39;00m(\u001b[38;5;124m\"\u001b[39m\u001b[38;5;124mAxis limits cannot be NaN or Inf\u001b[39m\u001b[38;5;124m\"\u001b[39m)\n\u001b[0;32m   3614\u001b[0m \u001b[38;5;28;01mreturn\u001b[39;00m converted_limit\n",
      "\u001b[1;31mValueError\u001b[0m: Axis limits cannot be NaN or Inf"
     ]
    },
    {
     "name": "stderr",
     "output_type": "stream",
     "text": [
      "posx and posy should be finite values\n",
      "posx and posy should be finite values\n",
      "posx and posy should be finite values\n",
      "posx and posy should be finite values\n",
      "posx and posy should be finite values\n",
      "posx and posy should be finite values\n",
      "posx and posy should be finite values\n",
      "posx and posy should be finite values\n",
      "posx and posy should be finite values\n"
     ]
    },
    {
     "data": {
      "image/png": "[encoded data removed]",
      "text/plain": [
       "<Figure size 640x480 with 1 Axes>"
      ]
     },
     "metadata": {},
     "output_type": "display_data"
    }
   ],
   "source": [
    "%timeit -r 1 -n 1 [dfdt.ac_mc_drift(burst.wfall, dm_uncertainty, f'{burst.eventname}_{i}', f'{burst.eventname}_{i}', ds, dm_trials=100, mc_trials=100, peak=peak, width=width) for i, (peak, width) in enumerate(zip(burst.peaks[:-1], burst.widths[:-1]), 1)]"
   ]
  }
 ],
 "metadata": {
  "kernelspec": {
   "display_name": "Python 3 (ipykernel)",
   "language": "python",
   "name": "python3"
  },
  "language_info": {
   "codemirror_mode": {
    "name": "ipython",
    "version": 3
   },
   "file_extension": ".py",
   "mimetype": "text/x-python",
   "name": "python",
   "nbconvert_exporter": "python",
   "pygments_lexer": "ipython3",
   "version": "3.8.10"
  },
  "toc-autonumbering": false,
  "toc-showcode": false,
  "toc-showmarkdowntxt": false
 },
 "nbformat": 4,
 "nbformat_minor": 5
}
