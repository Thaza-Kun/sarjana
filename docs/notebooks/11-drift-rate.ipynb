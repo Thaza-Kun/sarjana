{
 "cells": [
  {
   "cell_type": "code",
   "execution_count": 1,
   "id": "092690b2-dd79-4dfb-9e7c-220f2ba68c9f",
   "metadata": {},
   "outputs": [],
   "source": [
    "import os\n",
    "from pathlib import Path\n",
    "\n",
    "import numpy as np\n",
    "\n",
    "\n",
    "dedispersed_intensity = np.load(Path(os.getenv('DATAPATH'), '23891929_DM348.8_waterfall.npy'))"
   ]
  },
  {
   "cell_type": "code",
   "execution_count": 30,
   "id": "96577894",
   "metadata": {},
   "outputs": [
    {
     "ename": "NameError",
     "evalue": "name 'x' is not defined",
     "output_type": "error",
     "traceback": [
      "\u001b[1;31m---------------------------------------------------------------------------\u001b[0m",
      "\u001b[1;31mNameError\u001b[0m                                 Traceback (most recent call last)",
      "Cell \u001b[1;32mIn[30], line 5\u001b[0m\n\u001b[0;32m      3\u001b[0m a \u001b[39m=\u001b[39m pd\u001b[39m.\u001b[39mconcat([a,pd\u001b[39m.\u001b[39mDataFrame([[\u001b[39m1\u001b[39m,\u001b[39m2\u001b[39m,\u001b[39m3\u001b[39m]], columns\u001b[39m=\u001b[39m[\u001b[39m'\u001b[39m\u001b[39ma\u001b[39m\u001b[39m'\u001b[39m,\u001b[39m'\u001b[39m\u001b[39mb\u001b[39m\u001b[39m'\u001b[39m,\u001b[39m'\u001b[39m\u001b[39mc\u001b[39m\u001b[39m'\u001b[39m])])\n\u001b[0;32m      4\u001b[0m \u001b[39m# a.to_csv('./results/data.csv', index=False)\u001b[39;00m\n\u001b[1;32m----> 5\u001b[0m \u001b[39meval\u001b[39;49m(\u001b[39m'\u001b[39;49m\u001b[39mx\u001b[39;49m\u001b[39m'\u001b[39;49m)\n",
      "File \u001b[1;32m<string>:1\u001b[0m\n",
      "\u001b[1;31mNameError\u001b[0m: name 'x' is not defined"
     ]
    }
   ],
   "source": [
    "import pandas as pd\n",
    "a = pd.DataFrame(columns=['a','b','c'])\n",
    "a = pd.concat([a,pd.DataFrame([[1,2,3]], columns=['a','b','c'])])\n",
    "# a.to_csv('./results/data.csv', index=False)\n",
    "eval('x')"
   ]
  },
  {
   "cell_type": "code",
   "execution_count": 2,
   "id": "3fe567c0-3db8-4e45-8f2e-342f42af77cf",
   "metadata": {},
   "outputs": [],
   "source": [
    "import dfdt\n",
    "\n",
    "# burst parameters\n",
    "dm_uncertainty = 0.2  # pc cm-3\n",
    "source = \"R3\"\n",
    "eventid = \"23891929\"\n",
    "\n",
    "# instrument parameters\n",
    "dt_s = 0.00098304\n",
    "df_mhz = 0.0244140625\n",
    "nchan = 16384\n",
    "freq_bottom_mhz = 400.1953125\n",
    "freq_top_mhz = 800.1953125\n",
    "\n",
    "ds = dfdt.DynamicSpectrum(dt_s, df_mhz, nchan, freq_bottom_mhz, freq_top_mhz)"
   ]
  },
  {
   "cell_type": "code",
   "execution_count": 3,
   "id": "36e0e09f-940e-434b-8be4-f6dc826b7b49",
   "metadata": {},
   "outputs": [],
   "source": [
    "import pandas as pd\n",
    "\n",
    "data = pd.read_parquet(Path(os.getenv('DATAPATH'), 'raw', 'cfod', 'chimefrb_profile.parquet'))"
   ]
  },
  {
   "cell_type": "code",
   "execution_count": 4,
   "id": "f2583cd2-9b49-45ec-850a-420fa5f326dd",
   "metadata": {},
   "outputs": [],
   "source": [
    "with open('./results/dfdt.csv', 'a') as f:\n",
    "    f.write('eventname,constrained,dfdt_data,dfdt_mc,dfdt_mc_low,dfdt_mc_high\\n')"
   ]
  },
  {
   "cell_type": "code",
   "execution_count": 5,
   "id": "468f83ae-ba68-4099-8976-a25975b0ec76",
   "metadata": {},
   "outputs": [
    {
     "name": "stdout",
     "output_type": "stream",
     "text": [
      "FRB20181128A -- FRB20181128A_1 -- Analyzing..\n",
      "FRB20181128A -- FRB20181128A_1 -- df/dt (data) = -0.04 MHz/ms\n",
      "FRB20181128A -- FRB20181128A_1 -- Resampling data..\n"
     ]
    },
    {
     "name": "stderr",
     "output_type": "stream",
     "text": [
      "d:\\home\\lab\\sarjana\\.venv\\lib\\site-packages\\scipy\\optimize\\_minpack_py.py:881: OptimizeWarning: Covariance of the parameters could not be estimated\n",
      "  warnings.warn('Covariance of the parameters could not be estimated',\n"
     ]
    },
    {
     "name": "stdout",
     "output_type": "stream",
     "text": [
      "FRB20181128A -- FRB20181128A_1 -- df/dt unconstrained (99.7%)\n",
      "\n",
      "FRB20180917A -- FRB20180917A_1 -- Analyzing..\n",
      "FRB20180917A -- FRB20180917A_2 -- Analyzing..\n",
      "FRB20181019A -- FRB20181019A_1 -- Analyzing..\n",
      "FRB20190208A -- FRB20190208A_1 -- Analyzing..\n",
      "FRB20190208A -- FRB20190208A_2 -- Analyzing..\n",
      "FRB20181224E -- FRB20181224E_1 -- Analyzing..\n",
      "FRB20181224E -- FRB20181224E_1 -- df/dt (data) = 24.54 MHz/ms\n",
      "FRB20181224E -- FRB20181224E_1 -- Resampling data..\n"
     ]
    },
    {
     "name": "stderr",
     "output_type": "stream",
     "text": [
      "d:\\home\\lab\\sarjana\\.venv\\lib\\site-packages\\scipy\\optimize\\_minpack_py.py:881: OptimizeWarning: Covariance of the parameters could not be estimated\n",
      "  warnings.warn('Covariance of the parameters could not be estimated',\n"
     ]
    },
    {
     "name": "stdout",
     "output_type": "stream",
     "text": [
      "FRB20181224E -- FRB20181224E_1 -- df/dt unconstrained (99.7%)\n",
      "\n",
      "FRB20190421A -- FRB20190421A_1 -- Analyzing..\n"
     ]
    },
    {
     "name": "stderr",
     "output_type": "stream",
     "text": [
      "d:\\home\\lab\\sarjana\\.venv\\lib\\site-packages\\scipy\\optimize\\_minpack_py.py:881: OptimizeWarning: Covariance of the parameters could not be estimated\n",
      "  warnings.warn('Covariance of the parameters could not be estimated',\n"
     ]
    },
    {
     "name": "stdout",
     "output_type": "stream",
     "text": [
      "FRB20190421A -- FRB20190421A_1 -- df/dt (data) = -1.06 MHz/ms\n",
      "FRB20190421A -- FRB20190421A_1 -- Resampling data..\n",
      "FRB20190421A -- FRB20190421A_1 -- df/dt unconstrained (99.7%)\n",
      "\n",
      "FRB20190124C -- FRB20190124C_1 -- Analyzing..\n",
      "FRB20190124C -- FRB20190124C_1 -- df/dt (data) = -9.97 MHz/ms\n",
      "FRB20190124C -- FRB20190124C_1 -- Resampling data..\n"
     ]
    },
    {
     "name": "stderr",
     "output_type": "stream",
     "text": [
      "d:\\home\\lab\\sarjana\\.venv\\lib\\site-packages\\scipy\\optimize\\_minpack_py.py:881: OptimizeWarning: Covariance of the parameters could not be estimated\n",
      "  warnings.warn('Covariance of the parameters could not be estimated',\n"
     ]
    },
    {
     "name": "stdout",
     "output_type": "stream",
     "text": [
      "FRB20190124C -- FRB20190124C_1 -- df/dt unconstrained (99.7%)\n",
      "\n",
      "FRB20190501B -- FRB20190501B_1 -- Analyzing..\n",
      "FRB20190501B -- FRB20190501B_1 -- df/dt (data) = -20.39 MHz/ms\n",
      "FRB20190501B -- FRB20190501B_1 -- Resampling data..\n"
     ]
    },
    {
     "name": "stderr",
     "output_type": "stream",
     "text": [
      "d:\\home\\lab\\sarjana\\.venv\\lib\\site-packages\\scipy\\optimize\\_minpack_py.py:881: OptimizeWarning: Covariance of the parameters could not be estimated\n",
      "  warnings.warn('Covariance of the parameters could not be estimated',\n"
     ]
    },
    {
     "name": "stdout",
     "output_type": "stream",
     "text": [
      "FRB20190501B -- FRB20190501B_1 -- df/dt unconstrained (99.7%)\n",
      "\n",
      "FRB20190111A -- FRB20190111A_1 -- Analyzing..\n"
     ]
    },
    {
     "name": "stderr",
     "output_type": "stream",
     "text": [
      "d:\\home\\lab\\sarjana\\.venv\\lib\\site-packages\\scipy\\optimize\\_minpack_py.py:881: OptimizeWarning: Covariance of the parameters could not be estimated\n",
      "  warnings.warn('Covariance of the parameters could not be estimated',\n"
     ]
    },
    {
     "name": "stdout",
     "output_type": "stream",
     "text": [
      "FRB20190111A -- FRB20190111A_1 -- df/dt (data) = -0.87 MHz/ms\n",
      "FRB20190111A -- FRB20190111A_1 -- Resampling data..\n",
      "FRB20190111A -- FRB20190111A_1 -- df/dt unconstrained (99.7%)\n",
      "\n",
      "FRB20181117B -- FRB20181117B_1 -- Analyzing..\n",
      "FRB20181117B -- FRB20181117B_1 -- df/dt (data) = -0.28 MHz/ms\n",
      "FRB20181117B -- FRB20181117B_1 -- Resampling data..\n"
     ]
    },
    {
     "name": "stderr",
     "output_type": "stream",
     "text": [
      "d:\\home\\lab\\sarjana\\.venv\\lib\\site-packages\\scipy\\optimize\\_minpack_py.py:881: OptimizeWarning: Covariance of the parameters could not be estimated\n",
      "  warnings.warn('Covariance of the parameters could not be estimated',\n"
     ]
    },
    {
     "name": "stdout",
     "output_type": "stream",
     "text": [
      "FRB20181117B -- FRB20181117B_1 -- df/dt unconstrained (99.7%)\n",
      "\n",
      "FRB20190422A -- FRB20190422A_1 -- Analyzing..\n"
     ]
    },
    {
     "name": "stderr",
     "output_type": "stream",
     "text": [
      "d:\\home\\lab\\sarjana\\.venv\\lib\\site-packages\\scipy\\optimize\\_minpack_py.py:881: OptimizeWarning: Covariance of the parameters could not be estimated\n",
      "  warnings.warn('Covariance of the parameters could not be estimated',\n"
     ]
    },
    {
     "name": "stdout",
     "output_type": "stream",
     "text": [
      "FRB20190422A -- FRB20190422A_1 -- df/dt (data) = -2.39 MHz/ms\n",
      "FRB20190422A -- FRB20190422A_1 -- Resampling data..\n",
      "FRB20190422A -- FRB20190422A_1 -- df/dt unconstrained (99.7%)\n",
      "\n",
      "FRB20190422A -- FRB20190422A_2 -- Analyzing..\n",
      "FRB20190422A -- FRB20190422A_2 -- df/dt (data) = -1.01 MHz/ms\n",
      "FRB20190422A -- FRB20190422A_2 -- Resampling data..\n",
      "FRB20190422A -- FRB20190422A_2 -- df/dt unconstrained (99.7%)\n",
      "\n",
      "FRB20190611A -- FRB20190611A_1 -- Analyzing..\n"
     ]
    },
    {
     "name": "stderr",
     "output_type": "stream",
     "text": [
      "d:\\home\\lab\\sarjana\\.venv\\lib\\site-packages\\scipy\\optimize\\_minpack_py.py:881: OptimizeWarning: Covariance of the parameters could not be estimated\n",
      "  warnings.warn('Covariance of the parameters could not be estimated',\n"
     ]
    },
    {
     "name": "stdout",
     "output_type": "stream",
     "text": [
      "FRB20190611A -- FRB20190611A_1 -- df/dt (data) = -0.21 MHz/ms\n",
      "FRB20190611A -- FRB20190611A_1 -- Resampling data..\n",
      "FRB20190611A -- FRB20190611A_1 -- df/dt unconstrained (99.7%)\n",
      "\n",
      "FRB20181028A -- FRB20181028A_1 -- Analyzing..\n",
      "FRB20181028A -- FRB20181028A_2 -- Analyzing..\n",
      "FRB20181028A -- FRB20181028A_2 -- df/dt (data) = 3.32 MHz/ms\n",
      "FRB20181028A -- FRB20181028A_2 -- Resampling data..\n",
      "FRB20181028A -- FRB20181028A_2 -- df/dt unconstrained (99.7%)\n",
      "\n",
      "FRB20181028A -- FRB20181028A_3 -- Analyzing..\n",
      "FRB20181028A -- FRB20181028A_3 -- df/dt (data) = -0.39 MHz/ms\n",
      "FRB20181028A -- FRB20181028A_3 -- Resampling data..\n",
      "FRB20181028A -- FRB20181028A_3 -- df/dt unconstrained (99.7%)\n",
      "\n",
      "FRB20190131D -- FRB20190131D_1 -- Analyzing..\n"
     ]
    },
    {
     "name": "stderr",
     "output_type": "stream",
     "text": [
      "d:\\home\\lab\\sarjana\\.venv\\lib\\site-packages\\scipy\\optimize\\_minpack_py.py:881: OptimizeWarning: Covariance of the parameters could not be estimated\n",
      "  warnings.warn('Covariance of the parameters could not be estimated',\n"
     ]
    },
    {
     "name": "stdout",
     "output_type": "stream",
     "text": [
      "FRB20190131D -- FRB20190131D_1 -- df/dt (data) = -0.66 MHz/ms\n",
      "FRB20190131D -- FRB20190131D_1 -- Resampling data..\n",
      "FRB20190131D -- FRB20190131D_1 -- df/dt unconstrained (99.7%)\n",
      "\n",
      "FRB20181125A -- FRB20181125A_1 -- Analyzing..\n"
     ]
    },
    {
     "name": "stderr",
     "output_type": "stream",
     "text": [
      "d:\\home\\lab\\sarjana\\.venv\\lib\\site-packages\\scipy\\optimize\\_minpack_py.py:881: OptimizeWarning: Covariance of the parameters could not be estimated\n",
      "  warnings.warn('Covariance of the parameters could not be estimated',\n"
     ]
    },
    {
     "name": "stdout",
     "output_type": "stream",
     "text": [
      "FRB20181125A -- FRB20181125A_1 -- df/dt (data) = -0.45 MHz/ms\n",
      "FRB20181125A -- FRB20181125A_1 -- Resampling data..\n",
      "FRB20181125A -- FRB20181125A_1 -- df/dt unconstrained (99.7%)\n",
      "\n",
      "FRB20181125A -- FRB20181125A_2 -- Analyzing..\n",
      "FRB20181125A -- FRB20181125A_2 -- df/dt (data) = 2.15 MHz/ms\n",
      "FRB20181125A -- FRB20181125A_2 -- Resampling data..\n",
      "FRB20181125A -- FRB20181125A_2 -- df/dt unconstrained (99.7%)\n",
      "\n",
      "FRB20190213B -- FRB20190213B_1 -- Analyzing..\n",
      "FRB20190213B -- FRB20190213B_1 -- df/dt (data) = 8.05 MHz/ms\n",
      "FRB20190213B -- FRB20190213B_1 -- Resampling data..\n"
     ]
    },
    {
     "name": "stderr",
     "output_type": "stream",
     "text": [
      "d:\\home\\lab\\sarjana\\.venv\\lib\\site-packages\\scipy\\optimize\\_minpack_py.py:881: OptimizeWarning: Covariance of the parameters could not be estimated\n",
      "  warnings.warn('Covariance of the parameters could not be estimated',\n"
     ]
    },
    {
     "name": "stdout",
     "output_type": "stream",
     "text": [
      "FRB20190213B -- FRB20190213B_1 -- df/dt unconstrained (99.7%)\n",
      "\n",
      "FRB20190527A -- FRB20190527A_1 -- Analyzing..\n",
      "FRB20181226B -- FRB20181226B_1 -- Analyzing..\n",
      "FRB20181226B -- FRB20181226B_1 -- df/dt (data) = 151.75 MHz/ms\n",
      "FRB20181226B -- FRB20181226B_1 -- Resampling data..\n"
     ]
    },
    {
     "name": "stderr",
     "output_type": "stream",
     "text": [
      "d:\\home\\lab\\sarjana\\.venv\\lib\\site-packages\\scipy\\optimize\\_minpack_py.py:881: OptimizeWarning: Covariance of the parameters could not be estimated\n",
      "  warnings.warn('Covariance of the parameters could not be estimated',\n"
     ]
    },
    {
     "name": "stdout",
     "output_type": "stream",
     "text": [
      "FRB20181226B -- FRB20181226B_1 -- df/dt unconstrained (99.7%)\n",
      "\n",
      "FRB20181128C -- FRB20181128C_1 -- Analyzing..\n",
      "FRB20181128C -- FRB20181128C_1 -- df/dt (data) = 0.00 MHz/ms\n",
      "FRB20181128C -- FRB20181128C_1 -- Resampling data..\n"
     ]
    },
    {
     "name": "stderr",
     "output_type": "stream",
     "text": [
      "d:\\home\\lab\\sarjana\\.venv\\lib\\site-packages\\scipy\\optimize\\_minpack_py.py:881: OptimizeWarning: Covariance of the parameters could not be estimated\n",
      "  warnings.warn('Covariance of the parameters could not be estimated',\n"
     ]
    },
    {
     "name": "stdout",
     "output_type": "stream",
     "text": [
      "FRB20181128C -- FRB20181128C_1 -- df/dt unconstrained (99.7%)\n",
      "\n",
      "FRB20190308C -- FRB20190308C_1 -- Analyzing..\n",
      "FRB20190308C -- FRB20190308C_1 -- df/dt (data) = 24.49 MHz/ms\n",
      "FRB20190308C -- FRB20190308C_1 -- Resampling data..\n"
     ]
    },
    {
     "name": "stderr",
     "output_type": "stream",
     "text": [
      "d:\\home\\lab\\sarjana\\.venv\\lib\\site-packages\\scipy\\optimize\\_minpack_py.py:881: OptimizeWarning: Covariance of the parameters could not be estimated\n",
      "  warnings.warn('Covariance of the parameters could not be estimated',\n"
     ]
    },
    {
     "name": "stdout",
     "output_type": "stream",
     "text": [
      "FRB20190308C -- FRB20190308C_1 -- df/dt unconstrained (99.7%)\n",
      "\n",
      "FRB20190411C -- FRB20190411C_1 -- Analyzing..\n",
      "FRB20190411C -- FRB20190411C_1 -- df/dt (data) = nan MHz/ms\n",
      "FRB20190411C -- FRB20190411C_1 -- Resampling data..\n"
     ]
    },
    {
     "name": "stderr",
     "output_type": "stream",
     "text": [
      "d:\\home\\lab\\sarjana\\.venv\\lib\\site-packages\\scipy\\optimize\\_minpack_py.py:881: OptimizeWarning: Covariance of the parameters could not be estimated\n",
      "  warnings.warn('Covariance of the parameters could not be estimated',\n",
      "posx and posy should be finite values\n",
      "posx and posy should be finite values\n"
     ]
    },
    {
     "name": "stdout",
     "output_type": "stream",
     "text": [
      "FRB20190411C -- FRB20190411C_1 -- df/dt unconstrained (99.7%)\n"
     ]
    },
    {
     "name": "stderr",
     "output_type": "stream",
     "text": [
      "posx and posy should be finite values\n"
     ]
    },
    {
     "name": "stdout",
     "output_type": "stream",
     "text": [
      "\n",
      "FRB20190109A -- FRB20190109A_1 -- Analyzing..\n",
      "FRB20190109A -- FRB20190109A_1 -- df/dt (data) = -0.03 MHz/ms\n",
      "FRB20190109A -- FRB20190109A_1 -- Resampling data..\n"
     ]
    },
    {
     "name": "stderr",
     "output_type": "stream",
     "text": [
      "d:\\home\\lab\\sarjana\\.venv\\lib\\site-packages\\scipy\\optimize\\_minpack_py.py:881: OptimizeWarning: Covariance of the parameters could not be estimated\n",
      "  warnings.warn('Covariance of the parameters could not be estimated',\n"
     ]
    },
    {
     "name": "stdout",
     "output_type": "stream",
     "text": [
      "FRB20190109A -- FRB20190109A_1 -- df/dt unconstrained (99.7%)\n",
      "\n",
      "FRB20190601C -- FRB20190601C_1 -- Analyzing..\n",
      "FRB20190601C -- FRB20190601C_1 -- df/dt (data) = nan MHz/ms\n",
      "FRB20190601C -- FRB20190601C_1 -- Resampling data..\n"
     ]
    },
    {
     "name": "stderr",
     "output_type": "stream",
     "text": [
      "d:\\home\\lab\\sarjana\\.venv\\lib\\site-packages\\scipy\\optimize\\_minpack_py.py:881: OptimizeWarning: Covariance of the parameters could not be estimated\n",
      "  warnings.warn('Covariance of the parameters could not be estimated',\n",
      "posx and posy should be finite values\n",
      "posx and posy should be finite values\n"
     ]
    },
    {
     "name": "stdout",
     "output_type": "stream",
     "text": [
      "FRB20190601C -- FRB20190601C_1 -- df/dt unconstrained (99.7%)\n"
     ]
    },
    {
     "name": "stderr",
     "output_type": "stream",
     "text": [
      "posx and posy should be finite values\n"
     ]
    },
    {
     "name": "stdout",
     "output_type": "stream",
     "text": [
      "\n",
      "FRB20190625E -- FRB20190625E_1 -- Analyzing..\n",
      "FRB20190625E -- FRB20190625E_1 -- df/dt (data) = 4.90 MHz/ms\n",
      "FRB20190625E -- FRB20190625E_1 -- Resampling data..\n"
     ]
    },
    {
     "name": "stderr",
     "output_type": "stream",
     "text": [
      "d:\\home\\lab\\sarjana\\.venv\\lib\\site-packages\\scipy\\optimize\\_minpack_py.py:881: OptimizeWarning: Covariance of the parameters could not be estimated\n",
      "  warnings.warn('Covariance of the parameters could not be estimated',\n"
     ]
    },
    {
     "name": "stdout",
     "output_type": "stream",
     "text": [
      "FRB20190625E -- FRB20190625E_1 -- df/dt unconstrained (99.7%)\n",
      "\n",
      "FRB20190625E -- FRB20190625E_2 -- Analyzing..\n",
      "FRB20190625E -- FRB20190625E_2 -- df/dt (data) = -2.15 MHz/ms\n",
      "FRB20190625E -- FRB20190625E_2 -- Resampling data..\n",
      "FRB20190625E -- FRB20190625E_2 -- df/dt unconstrained (99.7%)\n",
      "\n",
      "FRB20190519A -- FRB20190519A_1 -- Analyzing..\n",
      "FRB20190519A -- FRB20190519A_1 -- df/dt (data) = 3.03 MHz/ms\n",
      "FRB20190519A -- FRB20190519A_1 -- Resampling data..\n"
     ]
    },
    {
     "name": "stderr",
     "output_type": "stream",
     "text": [
      "d:\\home\\lab\\sarjana\\.venv\\lib\\site-packages\\scipy\\optimize\\_minpack_py.py:881: OptimizeWarning: Covariance of the parameters could not be estimated\n",
      "  warnings.warn('Covariance of the parameters could not be estimated',\n"
     ]
    },
    {
     "name": "stdout",
     "output_type": "stream",
     "text": [
      "FRB20190519A -- FRB20190519A_1 -- df/dt unconstrained (99.7%)\n",
      "\n",
      "FRB20190519B -- FRB20190519B_1 -- Analyzing..\n",
      "FRB20190519B -- FRB20190519B_1 -- df/dt (data) = -0.02 MHz/ms\n",
      "FRB20190519B -- FRB20190519B_1 -- Resampling data..\n"
     ]
    },
    {
     "name": "stderr",
     "output_type": "stream",
     "text": [
      "d:\\home\\lab\\sarjana\\.venv\\lib\\site-packages\\scipy\\optimize\\_minpack_py.py:881: OptimizeWarning: Covariance of the parameters could not be estimated\n",
      "  warnings.warn('Covariance of the parameters could not be estimated',\n"
     ]
    },
    {
     "name": "stdout",
     "output_type": "stream",
     "text": [
      "FRB20190519B -- FRB20190519B_1 -- df/dt unconstrained (99.7%)\n",
      "\n",
      "FRB20190519B -- FRB20190519B_2 -- Analyzing..\n",
      "FRB20190519B -- FRB20190519B_2 -- df/dt (data) = 2.33 MHz/ms\n",
      "FRB20190519B -- FRB20190519B_2 -- Resampling data..\n",
      "FRB20190519B -- FRB20190519B_2 -- df/dt unconstrained (99.7%)\n",
      "\n",
      "FRB20190605B -- FRB20190605B_1 -- Analyzing..\n"
     ]
    },
    {
     "name": "stderr",
     "output_type": "stream",
     "text": [
      "d:\\home\\lab\\sarjana\\.venv\\lib\\site-packages\\scipy\\optimize\\_minpack_py.py:881: OptimizeWarning: Covariance of the parameters could not be estimated\n",
      "  warnings.warn('Covariance of the parameters could not be estimated',\n"
     ]
    },
    {
     "name": "stdout",
     "output_type": "stream",
     "text": [
      "FRB20190605B -- FRB20190605B_1 -- df/dt (data) = -0.43 MHz/ms\n",
      "FRB20190605B -- FRB20190605B_1 -- Resampling data..\n",
      "FRB20190605B -- FRB20190605B_1 -- df/dt unconstrained (99.7%)\n",
      "\n",
      "FRB20190605B -- FRB20190605B_2 -- Analyzing..\n",
      "FRB20190605B -- FRB20190605B_2 -- df/dt (data) = -2.72 MHz/ms\n",
      "FRB20190605B -- FRB20190605B_2 -- Resampling data..\n",
      "FRB20190605B -- FRB20190605B_2 -- df/dt unconstrained (99.7%)\n",
      "\n",
      "FRB20181222A -- FRB20181222A_1 -- Analyzing..\n",
      "FRB20181222A -- FRB20181222A_1 -- df/dt (data) = -0.00 MHz/ms\n",
      "FRB20181222A -- FRB20181222A_1 -- Resampling data..\n"
     ]
    },
    {
     "name": "stderr",
     "output_type": "stream",
     "text": [
      "d:\\home\\lab\\sarjana\\.venv\\lib\\site-packages\\scipy\\optimize\\_minpack_py.py:881: OptimizeWarning: Covariance of the parameters could not be estimated\n",
      "  warnings.warn('Covariance of the parameters could not be estimated',\n"
     ]
    },
    {
     "name": "stdout",
     "output_type": "stream",
     "text": [
      "FRB20181222A -- FRB20181222A_1 -- df/dt unconstrained (99.7%)\n",
      "\n",
      "FRB20181222E -- FRB20181222E_1 -- Analyzing..\n",
      "FRB20181222E -- FRB20181222E_1 -- df/dt (data) = -21.28 MHz/ms\n",
      "FRB20181222E -- FRB20181222E_1 -- Resampling data..\n"
     ]
    },
    {
     "name": "stderr",
     "output_type": "stream",
     "text": [
      "d:\\home\\lab\\sarjana\\.venv\\lib\\site-packages\\scipy\\optimize\\_minpack_py.py:881: OptimizeWarning: Covariance of the parameters could not be estimated\n",
      "  warnings.warn('Covariance of the parameters could not be estimated',\n"
     ]
    },
    {
     "name": "stdout",
     "output_type": "stream",
     "text": [
      "FRB20181222E -- FRB20181222E_1 -- df/dt unconstrained (99.7%)\n",
      "\n",
      "FRB20180814B -- FRB20180814B_1 -- Analyzing..\n",
      "FRB20180814B -- FRB20180814B_1 -- df/dt (data) = -0.00 MHz/ms\n",
      "FRB20180814B -- FRB20180814B_1 -- Resampling data..\n"
     ]
    },
    {
     "name": "stderr",
     "output_type": "stream",
     "text": [
      "d:\\home\\lab\\sarjana\\.venv\\lib\\site-packages\\scipy\\optimize\\_minpack_py.py:881: OptimizeWarning: Covariance of the parameters could not be estimated\n",
      "  warnings.warn('Covariance of the parameters could not be estimated',\n"
     ]
    },
    {
     "name": "stdout",
     "output_type": "stream",
     "text": [
      "FRB20180814B -- FRB20180814B_1 -- df/dt unconstrained (99.7%)\n",
      "\n"
     ]
    }
   ],
   "source": [
    "from datetime import datetime\n",
    "\n",
    "from sarjana.handlers import ParquetWaterfall\n",
    "from sarjana.signal import analyze\n",
    "\n",
    "start = datetime.now()\n",
    "for event in data['eventname']:\n",
    "    burst = ParquetWaterfall(Path(os.getenv('DATAPATH'), 'raw', 'wfall', f'{event}_waterfall.h5.parquet'))\n",
    "    if len(burst.peaks) > 1:\n",
    "        for i, (peak, width) in enumerate(zip(burst.peaks[:-1], burst.widths[:-1]), 1):\n",
    "            subburstname = f'{burst.eventname}_{i}'\n",
    "            try:\n",
    "                dfdt_data, theta, theta_sigma = analyze.frequency_drift_by_autocorrelation(burst.wfall, burst.eventname, subburstname, ds, peak, width)\n",
    "            except ValueError:\n",
    "                with open('./results/dfdt.csv', 'a') as f:\n",
    "                    f.write('{},{},{},{},{},{}\\n'.format(subburstname,constrained,dfdt_data,dfdt_mc,dfdt_mc_low,dfdt_mc_high))\n",
    "                continue\n",
    "            constrained, dfdt_mc, dfdt_mc_low, dfdt_mc_high = analyze.frequency_drift_by_acmc(\n",
    "                    burst.wfall, dm_uncertainty, ds, peak, width, dfdt_data, theta, theta_sigma, burst.eventname, subburstname\n",
    "            )\n",
    "            with open('./results/dfdt.csv', 'a') as f:\n",
    "                f.write('{},{},{},{},{},{}\\n'.format(subburstname,constrained,dfdt_data,dfdt_mc,dfdt_mc_low,dfdt_mc_high))\n",
    "            print('\\r')\n",
    "end = datetime.now()"
   ]
  },
  {
   "cell_type": "code",
   "execution_count": 6,
   "id": "2d89d4e3-a5ed-4368-8e31-feb7584f8eab",
   "metadata": {},
   "outputs": [
    {
     "name": "stdout",
     "output_type": "stream",
     "text": [
      "0.24583333333333332\n"
     ]
    }
   ],
   "source": [
    "print((end-start).seconds/3600)"
   ]
  },
  {
   "cell_type": "code",
   "execution_count": 46,
   "id": "2ae9a07f",
   "metadata": {},
   "outputs": [
    {
     "data": {
      "text/plain": [
       "'D:results/a/'"
      ]
     },
     "execution_count": 46,
     "metadata": {},
     "output_type": "execute_result"
    }
   ],
   "source": [
    "Path('D:', 'results', 'a').as_posix() + '/'"
   ]
  }
 ],
 "metadata": {
  "kernelspec": {
   "display_name": "Python 3 (ipykernel)",
   "language": "python",
   "name": "python3"
  },
  "language_info": {
   "codemirror_mode": {
    "name": "ipython",
    "version": 3
   },
   "file_extension": ".py",
   "mimetype": "text/x-python",
   "name": "python",
   "nbconvert_exporter": "python",
   "pygments_lexer": "ipython3",
   "version": "3.8.10"
  },
  "toc-autonumbering": false,
  "toc-showcode": false,
  "toc-showmarkdowntxt": false
 },
 "nbformat": 4,
 "nbformat_minor": 5
}
