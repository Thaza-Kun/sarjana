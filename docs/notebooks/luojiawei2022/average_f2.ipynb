{
 "cells": [
  {
   "cell_type": "code",
   "execution_count": 13,
   "id": "9078bd2a",
   "metadata": {},
   "outputs": [],
   "source": [
    "from frb_ml_utils import * \n",
    "import frb_ml_utils\n",
    "import numpy as np\n",
    "import pandas as pd\n",
    "from sklearn import svm\n",
    "from sklearn.tree import DecisionTreeClassifier\n",
    "from sklearn.ensemble import RandomForestClassifier,AdaBoostClassifier\n",
    "from sklearn.neighbors import NearestCentroid\n",
    "from sklearn.metrics import fbeta_score\n",
    "from sklearn.model_selection import train_test_split\n",
    "from sklearn.preprocessing import StandardScaler\n",
    "from imblearn.over_sampling import SMOTE\n",
    "from xgboost import XGBClassifier\n",
    "from lightgbm import LGBMClassifier\n",
    "from joblib import Parallel, delayed"
   ]
  },
  {
   "cell_type": "code",
   "execution_count": 19,
   "id": "ba1469e2",
   "metadata": {},
   "outputs": [
    {
     "name": "stdout",
     "output_type": "stream",
     "text": [
      "2 78.8 0.00225301 FRB20180729A\n",
      "12 101.5 0.00225301 FRB20180814A\n",
      "38 101.0 0.00225301 FRB20180919A\n",
      "49 94.7 0.00225301 FRB20180928A\n",
      "75 101.3 0.00225301 FRB20181028A\n",
      "76 101.3 0.00225301 FRB20181028A\n",
      "77 101.3 0.00225301 FRB20181028A\n",
      "78 101.3 0.00225301 FRB20181028A\n",
      "79 101.3 0.00225301 FRB20181028A\n",
      "81 62.3 0.00225301 FRB20181030A\n",
      "82 62.5 0.00225301 FRB20181030B\n",
      "158 83.6 0.00225301 FRB20181220A\n",
      "174 92.6 0.00225301 FRB20181223C\n",
      "221 96.1 0.00225301 FRB20190107B\n",
      "399 100.8 0.00225301 FRB20190329A\n",
      "459 79.4 0.00225301 FRB20190425A\n",
      "571 100.7 0.00225301 FRB20190625E\n",
      "572 100.7 0.00225301 FRB20190625E\n",
      "573 100.7 0.00225301 FRB20190625E\n",
      "576 101.5 0.00225301 FRB20190626A\n"
     ]
    },
    {
     "name": "stderr",
     "output_type": "stream",
     "text": [
      "[Parallel(n_jobs=6)]: Using backend LokyBackend with 6 concurrent workers.\n",
      "[Parallel(n_jobs=6)]: Done   1 tasks      | elapsed:    1.9s\n",
      "[Parallel(n_jobs=6)]: Done   6 tasks      | elapsed:    1.9s\n",
      "[Parallel(n_jobs=6)]: Done  13 tasks      | elapsed:    2.8s\n",
      "[Parallel(n_jobs=6)]: Done  20 tasks      | elapsed:    3.4s\n",
      "[Parallel(n_jobs=6)]: Done  29 tasks      | elapsed:    3.9s\n",
      "[Parallel(n_jobs=6)]: Done  38 tasks      | elapsed:    4.9s\n",
      "[Parallel(n_jobs=6)]: Done  49 tasks      | elapsed:    5.7s\n",
      "[Parallel(n_jobs=6)]: Done  60 tasks      | elapsed:    6.4s\n",
      "[Parallel(n_jobs=6)]: Done  73 tasks      | elapsed:    7.6s\n",
      "[Parallel(n_jobs=6)]: Done  86 tasks      | elapsed:    8.7s\n",
      "[Parallel(n_jobs=6)]: Done 101 tasks      | elapsed:    9.8s\n",
      "[Parallel(n_jobs=6)]: Done 116 tasks      | elapsed:   11.2s\n",
      "[Parallel(n_jobs=6)]: Done 133 tasks      | elapsed:   12.8s\n",
      "[Parallel(n_jobs=6)]: Done 150 tasks      | elapsed:   14.0s\n",
      "[Parallel(n_jobs=6)]: Done 169 tasks      | elapsed:   15.6s\n",
      "[Parallel(n_jobs=6)]: Done 188 tasks      | elapsed:   17.1s\n",
      "[Parallel(n_jobs=6)]: Done 209 tasks      | elapsed:   19.4s\n",
      "[Parallel(n_jobs=6)]: Done 230 tasks      | elapsed:   21.5s\n",
      "[Parallel(n_jobs=6)]: Done 253 tasks      | elapsed:   23.9s\n",
      "[Parallel(n_jobs=6)]: Done 276 tasks      | elapsed:   26.7s\n",
      "[Parallel(n_jobs=6)]: Done 301 tasks      | elapsed:   30.9s\n",
      "[Parallel(n_jobs=6)]: Done 326 tasks      | elapsed:   35.0s\n",
      "[Parallel(n_jobs=6)]: Done 353 tasks      | elapsed:   38.9s\n",
      "[Parallel(n_jobs=6)]: Done 380 tasks      | elapsed:   41.8s\n",
      "[Parallel(n_jobs=6)]: Done 409 tasks      | elapsed:   44.9s\n",
      "[Parallel(n_jobs=6)]: Done 438 tasks      | elapsed:   47.7s\n",
      "[Parallel(n_jobs=6)]: Done 469 tasks      | elapsed:   50.8s\n",
      "[Parallel(n_jobs=6)]: Done 500 tasks      | elapsed:   53.7s\n",
      "[Parallel(n_jobs=6)]: Done 533 tasks      | elapsed:   57.1s\n",
      "[Parallel(n_jobs=6)]: Done 566 tasks      | elapsed:  1.0min\n",
      "[Parallel(n_jobs=6)]: Done 601 tasks      | elapsed:  1.1min\n",
      "[Parallel(n_jobs=6)]: Done 636 tasks      | elapsed:  1.2min\n",
      "[Parallel(n_jobs=6)]: Done 673 tasks      | elapsed:  1.3min\n",
      "[Parallel(n_jobs=6)]: Done 710 tasks      | elapsed:  1.4min\n",
      "[Parallel(n_jobs=6)]: Done 749 tasks      | elapsed:  1.5min\n",
      "[Parallel(n_jobs=6)]: Done 788 tasks      | elapsed:  1.6min\n",
      "[Parallel(n_jobs=6)]: Done 829 tasks      | elapsed:  1.6min\n",
      "[Parallel(n_jobs=6)]: Done 870 tasks      | elapsed:  1.7min\n",
      "[Parallel(n_jobs=6)]: Done 913 tasks      | elapsed:  1.8min\n",
      "[Parallel(n_jobs=6)]: Done 956 tasks      | elapsed:  1.9min\n",
      "[Parallel(n_jobs=6)]: Done 1000 out of 1000 | elapsed:  1.9min finished\n"
     ]
    }
   ],
   "source": [
    "CHIME = load_chime()\n",
    "columns_to_use = ['bc_width','flux','fluence','dm_exc_ne2001',\n",
    "                  'peak_freq',\n",
    "                  'bright_temp','rest_width','freq_width','energy']\n",
    "CHIME['bright_temp'] = np.log10(CHIME['bright_temp'])\n",
    "CHIME['energy'] = np.log10(CHIME['energy'])\n",
    "CHIME['rest_width'] = CHIME['rest_width'] * 1000\n",
    "CHIME['bc_width'] = CHIME['bc_width'] * 1000\n",
    "CHIME['freq_width'] = np.log10(CHIME['freq_width'])\n",
    "\n",
    "bagging_times = 1000\n",
    "def calculate_f2(i):\n",
    "    chime_data = CHIME[columns_to_use]\n",
    "    chime_target = (CHIME['repeater_name'] != '-9999').to_numpy().astype('int')\n",
    "    temp_f2 = np.zeros(6)\n",
    "    X,test_X,y,test_y = train_test_split(chime_data,chime_target,test_size=0.3,stratify=chime_target)\n",
    "\n",
    "    scaler = StandardScaler()\n",
    "    scaler.fit(X)  \n",
    "    X = scaler.transform(X)  \n",
    "    test_X = scaler.transform(test_X)\n",
    "    chime_data = scaler.transform(chime_data)\n",
    "\n",
    "    X, y = SMOTE().fit_resample(X, y)\n",
    "    \n",
    "    clf = RandomForestClassifier()\n",
    "    clf.fit(X, y)\n",
    "    predictions = clf.predict(test_X)\n",
    "    temp_f2[0] = fbeta_score(test_y,predictions,beta=2)\n",
    "    \n",
    "    clf = AdaBoostClassifier()\n",
    "    clf.fit(X, y)\n",
    "    predictions = clf.predict(test_X)\n",
    "    temp_f2[1] = fbeta_score(test_y,predictions,beta=2)\n",
    "    \n",
    "    clf = LGBMClassifier()\n",
    "    clf.fit(X, y)\n",
    "    predictions = clf.predict(test_X)\n",
    "    temp_f2[2] = fbeta_score(test_y,predictions,beta=2)\n",
    "    \n",
    "    clf = XGBClassifier(use_label_encoder=False,eval_metric='logloss')\n",
    "    clf.fit(X, y)\n",
    "    predictions = clf.predict(test_X)\n",
    "    temp_f2[3] = fbeta_score(test_y,predictions,beta=2)\n",
    "    \n",
    "    clf = svm.SVC()\n",
    "    clf.fit(X, y)\n",
    "    predictions = clf.predict(test_X)\n",
    "    temp_f2[4] = fbeta_score(test_y,predictions,beta=2)\n",
    "    \n",
    "    clf = NearestCentroid()\n",
    "    clf.fit(X, y)\n",
    "    predictions = clf.predict(test_X)\n",
    "    temp_f2[5] = fbeta_score(test_y,predictions,beta=2)\n",
    "    \n",
    "    return temp_f2\n",
    "\n",
    "f2_list = np.array(Parallel(n_jobs=6,verbose=10)(delayed(calculate_f2)(i) for i in range(bagging_times)))"
   ]
  },
  {
   "cell_type": "code",
   "execution_count": 22,
   "id": "05f7e914",
   "metadata": {},
   "outputs": [
    {
     "data": {
      "text/plain": [
       "array([0.78207573, 0.76660985, 0.7831917 , 0.78434569, 0.8179593 ,\n",
       "       0.71472412])"
      ]
     },
     "execution_count": 22,
     "metadata": {},
     "output_type": "execute_result"
    }
   ],
   "source": [
    "np.average(f2_list,axis=0)"
   ]
  },
  {
   "cell_type": "code",
   "execution_count": 23,
   "id": "a36898b7",
   "metadata": {},
   "outputs": [
    {
     "data": {
      "text/plain": [
       "array([0.06426469, 0.06167393, 0.06466454, 0.0630597 , 0.04827037,\n",
       "       0.06143691])"
      ]
     },
     "execution_count": 23,
     "metadata": {},
     "output_type": "execute_result"
    }
   ],
   "source": [
    "np.std(f2_list,axis=0)"
   ]
  },
  {
   "cell_type": "code",
   "execution_count": 6,
   "id": "1aa14b0e",
   "metadata": {},
   "outputs": [
    {
     "name": "stdout",
     "output_type": "stream",
     "text": [
      "2 78.8 0.00225301 FRB20180729A\n",
      "12 101.5 0.00225301 FRB20180814A\n",
      "38 101.0 0.00225301 FRB20180919A\n",
      "49 94.7 0.00225301 FRB20180928A\n",
      "75 101.3 0.00225301 FRB20181028A\n",
      "76 101.3 0.00225301 FRB20181028A\n",
      "77 101.3 0.00225301 FRB20181028A\n",
      "78 101.3 0.00225301 FRB20181028A\n",
      "79 101.3 0.00225301 FRB20181028A\n",
      "81 62.3 0.00225301 FRB20181030A\n",
      "82 62.5 0.00225301 FRB20181030B\n",
      "158 83.6 0.00225301 FRB20181220A\n",
      "174 92.6 0.00225301 FRB20181223C\n",
      "221 96.1 0.00225301 FRB20190107B\n",
      "399 100.8 0.00225301 FRB20190329A\n",
      "459 79.4 0.00225301 FRB20190425A\n",
      "571 100.7 0.00225301 FRB20190625E\n",
      "572 100.7 0.00225301 FRB20190625E\n",
      "573 100.7 0.00225301 FRB20190625E\n",
      "576 101.5 0.00225301 FRB20190626A\n"
     ]
    },
    {
     "name": "stderr",
     "output_type": "stream",
     "text": [
      "[Parallel(n_jobs=6)]: Using backend LokyBackend with 6 concurrent workers.\n",
      "[Parallel(n_jobs=6)]: Done   1 tasks      | elapsed:    0.0s\n",
      "[Parallel(n_jobs=6)]: Batch computation too fast (0.0132s.) Setting batch_size=2.\n",
      "[Parallel(n_jobs=6)]: Done   6 tasks      | elapsed:    0.0s\n",
      "[Parallel(n_jobs=6)]: Done  14 tasks      | elapsed:    0.0s\n",
      "[Parallel(n_jobs=6)]: Batch computation too fast (0.0326s.) Setting batch_size=4.\n",
      "[Parallel(n_jobs=6)]: Done  28 tasks      | elapsed:    0.1s\n",
      "[Parallel(n_jobs=6)]: Batch computation too fast (0.0642s.) Setting batch_size=8.\n",
      "[Parallel(n_jobs=6)]: Done  56 tasks      | elapsed:    0.1s\n",
      "[Parallel(n_jobs=6)]: Batch computation too fast (0.1048s.) Setting batch_size=16.\n",
      "[Parallel(n_jobs=6)]: Done 100 tasks      | elapsed:    0.2s\n",
      "[Parallel(n_jobs=6)]: Done 196 tasks      | elapsed:    0.4s\n",
      "[Parallel(n_jobs=6)]: Done 372 tasks      | elapsed:    0.7s\n",
      "[Parallel(n_jobs=6)]: Done 580 tasks      | elapsed:    1.1s\n",
      "[Parallel(n_jobs=6)]: Done 788 tasks      | elapsed:    1.4s\n",
      "[Parallel(n_jobs=6)]: Done 923 tasks      | elapsed:    1.6s\n",
      "[Parallel(n_jobs=6)]: Done 953 tasks      | elapsed:    1.7s\n",
      "[Parallel(n_jobs=6)]: Done 985 tasks      | elapsed:    1.7s\n",
      "[Parallel(n_jobs=6)]: Done 1000 out of 1000 | elapsed:    1.7s finished\n"
     ]
    }
   ],
   "source": [
    "# decision tree (all features)\n",
    "CHIME = load_chime()\n",
    "columns_to_use = ['bc_width','flux','fluence','dm_exc_ne2001',\n",
    "                  'peak_freq',\n",
    "                  'bright_temp','rest_width','freq_width','energy']\n",
    "CHIME['bright_temp'] = np.log10(CHIME['bright_temp'])\n",
    "CHIME['energy'] = np.log10(CHIME['energy'])\n",
    "CHIME['rest_width'] = CHIME['rest_width'] * 1000\n",
    "CHIME['bc_width'] = CHIME['bc_width'] * 1000\n",
    "CHIME['freq_width'] = np.log10(CHIME['freq_width'])\n",
    "\n",
    "bagging_times = 1000\n",
    "def calculate_f2_tree(i):\n",
    "    chime_data = CHIME[columns_to_use]\n",
    "    chime_target = (CHIME['repeater_name'] != '-9999').to_numpy().astype('int')\n",
    "    X,test_X,y,test_y = train_test_split(chime_data,chime_target,test_size=0.3,stratify=chime_target)\n",
    "\n",
    "    X, y = SMOTE().fit_resample(X, y)\n",
    "    clf = DecisionTreeClassifier(max_depth=5)  \n",
    "    clf.fit(X, y)\n",
    "    predictions = clf.predict(test_X)\n",
    "    return fbeta_score(test_y,predictions,beta=2)\n",
    "f2_tree_list = np.array(Parallel(n_jobs=6,verbose=10)(delayed(calculate_f2_tree)(i) for i in range(bagging_times)))"
   ]
  },
  {
   "cell_type": "code",
   "execution_count": 7,
   "id": "6caa87e1",
   "metadata": {},
   "outputs": [
    {
     "data": {
      "text/plain": [
       "0.7351075923859341"
      ]
     },
     "execution_count": 7,
     "metadata": {},
     "output_type": "execute_result"
    }
   ],
   "source": [
    "np.average(f2_tree_list)"
   ]
  },
  {
   "cell_type": "code",
   "execution_count": 8,
   "id": "664bb337",
   "metadata": {},
   "outputs": [
    {
     "data": {
      "text/plain": [
       "0.0631730026032148"
      ]
     },
     "execution_count": 8,
     "metadata": {},
     "output_type": "execute_result"
    }
   ],
   "source": [
    "np.std(f2_tree_list)"
   ]
  },
  {
   "cell_type": "code",
   "execution_count": 24,
   "id": "59ea4bc0",
   "metadata": {},
   "outputs": [
    {
     "name": "stdout",
     "output_type": "stream",
     "text": [
      "2 78.8 0.00225301 FRB20180729A\n",
      "12 101.5 0.00225301 FRB20180814A\n",
      "38 101.0 0.00225301 FRB20180919A\n",
      "49 94.7 0.00225301 FRB20180928A\n",
      "75 101.3 0.00225301 FRB20181028A\n",
      "76 101.3 0.00225301 FRB20181028A\n",
      "77 101.3 0.00225301 FRB20181028A\n",
      "78 101.3 0.00225301 FRB20181028A\n",
      "79 101.3 0.00225301 FRB20181028A\n",
      "81 62.3 0.00225301 FRB20181030A\n",
      "82 62.5 0.00225301 FRB20181030B\n",
      "158 83.6 0.00225301 FRB20181220A\n",
      "174 92.6 0.00225301 FRB20181223C\n",
      "221 96.1 0.00225301 FRB20190107B\n",
      "399 100.8 0.00225301 FRB20190329A\n",
      "459 79.4 0.00225301 FRB20190425A\n",
      "571 100.7 0.00225301 FRB20190625E\n",
      "572 100.7 0.00225301 FRB20190625E\n",
      "573 100.7 0.00225301 FRB20190625E\n",
      "576 101.5 0.00225301 FRB20190626A\n"
     ]
    },
    {
     "name": "stderr",
     "output_type": "stream",
     "text": [
      "[Parallel(n_jobs=6)]: Using backend LokyBackend with 6 concurrent workers.\n",
      "[Parallel(n_jobs=6)]: Done   1 tasks      | elapsed:    1.1s\n",
      "[Parallel(n_jobs=6)]: Done   6 tasks      | elapsed:    1.1s\n",
      "[Parallel(n_jobs=6)]: Done  13 tasks      | elapsed:    1.1s\n",
      "[Parallel(n_jobs=6)]: Done  20 tasks      | elapsed:    1.2s\n",
      "[Parallel(n_jobs=6)]: Batch computation too fast (0.1727s.) Setting batch_size=2.\n",
      "[Parallel(n_jobs=6)]: Done  29 tasks      | elapsed:    1.2s\n",
      "[Parallel(n_jobs=6)]: Batch computation too fast (0.0336s.) Setting batch_size=4.\n",
      "[Parallel(n_jobs=6)]: Done  40 tasks      | elapsed:    1.2s\n",
      "[Parallel(n_jobs=6)]: Done  64 tasks      | elapsed:    1.2s\n",
      "[Parallel(n_jobs=6)]: Batch computation too fast (0.0444s.) Setting batch_size=8.\n",
      "[Parallel(n_jobs=6)]: Done 108 tasks      | elapsed:    1.3s\n",
      "[Parallel(n_jobs=6)]: Batch computation too fast (0.0899s.) Setting batch_size=16.\n",
      "[Parallel(n_jobs=6)]: Done 220 tasks      | elapsed:    1.5s\n",
      "[Parallel(n_jobs=6)]: Batch computation too fast (0.1745s.) Setting batch_size=32.\n",
      "[Parallel(n_jobs=6)]: Done 460 tasks      | elapsed:    1.9s\n",
      "[Parallel(n_jobs=6)]: Done 878 tasks      | elapsed:    2.3s\n",
      "[Parallel(n_jobs=6)]: Done 893 tasks      | elapsed:    2.3s\n",
      "[Parallel(n_jobs=6)]: Done 1000 out of 1000 | elapsed:    2.3s finished\n"
     ]
    }
   ],
   "source": [
    "# decision tree (T_B and delta nu)\n",
    "CHIME = load_chime()\n",
    "columns_to_use = ['bc_width','flux','fluence','dm_exc_ne2001',\n",
    "                  'peak_freq',\n",
    "                  'bright_temp','rest_width','freq_width','energy']\n",
    "CHIME['bright_temp'] = np.log10(CHIME['bright_temp'])\n",
    "CHIME['energy'] = np.log10(CHIME['energy'])\n",
    "CHIME['rest_width'] = CHIME['rest_width'] * 1000\n",
    "CHIME['bc_width'] = CHIME['bc_width'] * 1000\n",
    "CHIME['freq_width'] = np.log10(CHIME['freq_width'])\n",
    "d2_columns = ['bright_temp','freq_width']\n",
    "chime_data_2d = CHIME[d2_columns]\n",
    "\n",
    "bagging_times = 1000\n",
    "def calculate_f2_2d(i):\n",
    "    chime_data = CHIME[columns_to_use]\n",
    "    chime_target = (CHIME['repeater_name'] != '-9999').to_numpy().astype('int')\n",
    "    X_2d,test_X_2d,y_2d,test_y_2d = train_test_split(chime_data_2d,chime_target,test_size=0.3,stratify=chime_target)\n",
    "    clf = imbpipeline(steps = [['scaler', StandardScaler()],\n",
    "                               ['smote', SMOTE()],\n",
    "                               ['classifier', DecisionTreeClassifier(max_depth=3)]])\n",
    "    clf.fit(X_2d, y_2d)\n",
    "    predictions = clf.predict(test_X_2d)\n",
    "    return fbeta_score(test_y_2d,predictions,beta=2)\n",
    "f2_2d_list = np.array(Parallel(n_jobs=6,verbose=10)(delayed(calculate_f2_2d)(i) for i in range(bagging_times)))"
   ]
  },
  {
   "cell_type": "code",
   "execution_count": 25,
   "id": "4813f966",
   "metadata": {},
   "outputs": [
    {
     "data": {
      "text/plain": [
       "0.7368846509966182"
      ]
     },
     "execution_count": 25,
     "metadata": {},
     "output_type": "execute_result"
    }
   ],
   "source": [
    "np.average(f2_2d_list)"
   ]
  },
  {
   "cell_type": "code",
   "execution_count": 26,
   "id": "777c6381",
   "metadata": {},
   "outputs": [
    {
     "data": {
      "text/plain": [
       "0.049852263048514395"
      ]
     },
     "execution_count": 26,
     "metadata": {},
     "output_type": "execute_result"
    }
   ],
   "source": [
    "np.std(f2_2d_list)"
   ]
  },
  {
   "cell_type": "code",
   "execution_count": null,
   "id": "88af56f9",
   "metadata": {},
   "outputs": [],
   "source": []
  }
 ],
 "metadata": {
  "kernelspec": {
   "display_name": "Python 3 (ipykernel)",
   "language": "python",
   "name": "python3"
  },
  "language_info": {
   "codemirror_mode": {
    "name": "ipython",
    "version": 3
   },
   "file_extension": ".py",
   "mimetype": "text/x-python",
   "name": "python",
   "nbconvert_exporter": "python",
   "pygments_lexer": "ipython3",
   "version": "3.9.12"
  }
 },
 "nbformat": 4,
 "nbformat_minor": 5
}
