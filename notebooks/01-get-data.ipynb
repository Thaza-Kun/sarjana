{
 "cells": [
  {
   "cell_type": "markdown",
   "metadata": {},
   "source": [
    "# Get Data\n",
    "\n",
    "author: Murthadza bin Aznam</br>\n",
    "date: 2022-09-15\n",
    "\n",
    "---\n",
    "\n",
    "goal: get data from FRBStats\n"
   ]
  },
  {
   "cell_type": "code",
   "execution_count": 13,
   "metadata": {},
   "outputs": [],
   "source": [
    "import requests\n",
    "import asyncio\n",
    "import logging"
   ]
  },
  {
   "cell_type": "code",
   "execution_count": 27,
   "metadata": {},
   "outputs": [],
   "source": [
    "def request_data(url, **kwargs) -> requests.Response:\n",
    "    logging.debug(f\"Awaiting data from {url}\")\n",
    "    return requests.get(url, **kwargs)\n",
    "\n",
    "async def get_frb_population_data_as_csv(url:str='https://www.herta-experiment.org/frbstats/catalogue.csv', output_file='data.csv') -> str:\n",
    "    result = await request_data(url)\n",
    "    if result.status_code != 200:\n",
    "        raise requests.RequestException(result.status_code)\n",
    "    with open(output_file, 'w') as f:\n",
    "        f.write(result.content.decode(result.encoding))\n",
    "        logging.debug(f'Writing data to {output_file}')\n",
    "    return output_file"
   ]
  },
  {
   "cell_type": "code",
   "execution_count": 29,
   "metadata": {},
   "outputs": [
    {
     "data": {
      "text/plain": [
       "'data.csv'"
      ]
     },
     "execution_count": 29,
     "metadata": {},
     "output_type": "execute_result"
    }
   ],
   "source": [
    "await get_frb_population_data_as_csv()"
   ]
  },
  {
   "cell_type": "code",
   "execution_count": null,
   "metadata": {},
   "outputs": [],
   "source": []
  }
 ],
 "metadata": {
  "kernelspec": {
   "display_name": "Python 3.8.10 ('.venv': poetry)",
   "language": "python",
   "name": "python3"
  },
  "language_info": {
   "codemirror_mode": {
    "name": "ipython",
    "version": 3
   },
   "file_extension": ".py",
   "mimetype": "text/x-python",
   "name": "python",
   "nbconvert_exporter": "python",
   "pygments_lexer": "ipython3",
   "version": "3.8.10"
  },
  "orig_nbformat": 4,
  "vscode": {
   "interpreter": {
    "hash": "4396f8abeeb123327c0663e5e89e19ae295cfe4b7f3e02cb9039aba5f059a10b"
   }
  }
 },
 "nbformat": 4,
 "nbformat_minor": 2
}
