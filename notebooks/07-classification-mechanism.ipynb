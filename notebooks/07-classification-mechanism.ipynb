{
 "cells": [
  {
   "cell_type": "markdown",
   "metadata": {},
   "source": [
    "---\n",
    "title: Reproducing Chen et. al. (2021)'s unsupervised machine learning\n",
    "subtitle: Using UMAP to reduce dimensions and HDBSCAN to cluster datapoints\n",
    "author: Murthadza Aznam\n",
    "date: '2022-10-20'\n",
    "---"
   ]
  },
  {
   "attachments": {},
   "cell_type": "markdown",
   "metadata": {},
<<<<<<< HEAD
   "source": []
=======
   "source": [
    ":::{.callout-note}\n",
    "\n",
    " 📌 Goal: This notebook tries to reproduce the results from [https://ui.adsabs.harvard.edu/abs/2021MNRAS.500.3275C/abstract](https://ui.adsabs.harvard.edu/abs/2021MNRAS.500.3275C/abstract). As stated in the paper, verbatim \n",
    " \n",
    " > We investigate the statistical classifications for the two groups of samples **to see if the non-repeating and repeating FRBs have different origins** by employing Anderson–Darling (A–D) test and Mann–WhitneyWilcoxon (M–W–W) test\n",
    "\n",
    ":::"
   ]
>>>>>>> feacbe75a630a2733cfe74e55ed30db26479b8c1
  }
 ],
 "metadata": {
  "kernelspec": {
   "display_name": "Python 3.9.5 ('.venv': poetry)",
   "language": "python",
   "name": "python3"
  },
  "language_info": {
   "name": "python",
   "version": "3.9.15 | packaged by conda-forge | (main, Nov 22 2022, 08:41:22) [MSC v.1929 64 bit (AMD64)]"
  },
  "orig_nbformat": 4,
  "vscode": {
   "interpreter": {
    "hash": "cb2370e8d3d2b1487010e24a0198f6b33af6458daeeee11246273e9b18a27dde"
   }
  }
 },
 "nbformat": 4,
 "nbformat_minor": 2
}
