{
 "cells": [
  {
   "cell_type": "markdown",
   "metadata": {},
   "source": [
    "---\n",
    "title: 'Calculating Redshift via Dispersion Measure'\n",
    "subtitle: 'A model developed by [Hashimoto et al 2020](https://doi.org/10.1093/mnras/staa2490)'\n",
    "authors: Murthadza Aznam\n",
    "date: '2022-10-21'\n",
    "draft: true\n",
    "\n",
    "---\n",
    "\n",
    ":::{.callout-note}\n",
    "📌 Goal: To reproduce the redshift model described in [https://doi.org/10.1093/mnras/staa2490](https://doi.org/10.1093/mnras/staa2490)\n",
    "\n",
    ":::"
   ]
  },
  {
   "cell_type": "markdown",
   "metadata": {},
   "source": [
    "## 0. Pre-Analysis\n",
    "\n",
    "### 0.1 Description\n",
    "\n",
    "The redshift model is described as follows:\n",
    "1. We agree that the $\\text{DM}_\\text{obs}$ is the total $DM$ from multiple sources\n",
    "$$\n",
    "\\text{DM}_\\text{obs} = \\text{DM}_\\text{MW}(b, l) + \\text{DM}_\\text{halo} + \\text{DM}_\\text{IGM}(z) + \\text{DM}_\\text{host}(z)\n",
    "$${#eq-dm-total}\n",
    "2. $\\text{DM}_\\text{IGM}$ is derived from [Zhou et al 2014](https://arxiv.org/abs/1401.2927)\n",
    "3. $\\text{DM}_\\text{MW}(b,l)$ is derived from [Yao et al 2017](https://iopscience.iop.org/article/10.3847/1538-4357/835/1/29) and integrate up to 10 kpc.\n",
    "4. $\\text{DM}_\\text{halo}$ is taken to be 65 pc/cm. $\\text{DM}_\\text{halo}$ is estimated to be between 10 to 200 kpc from the sun. ([https://academic.oup.com/mnras/article/485/1/648/5300129](https://academic.oup.com/mnras/article/485/1/648/5300129))\n",
    "5. $\\text{DM}_\\text{host} = 50.0/(1+z) \\text{pc} \\text{cm}^{-3}$ ([Shannon et al 2018](https://www.nature.com/articles/s41586-018-0588-y))\n",
    "\n",
    "Which supposedly give the redshift."
   ]
  },
  {
   "cell_type": "markdown",
   "metadata": {},
   "source": []
  }
 ],
 "metadata": {
  "kernelspec": {
   "display_name": "Python 3.8.10 ('.venv': poetry)",
   "language": "python",
   "name": "python3"
  },
  "language_info": {
   "name": "python",
   "version": "3.8.10"
  },
  "orig_nbformat": 4,
  "vscode": {
   "interpreter": {
    "hash": "e7446bbffcba41016c455164036d2517f882716d8105ea49ad82f442f70bbbe0"
   }
  }
 },
 "nbformat": 4,
 "nbformat_minor": 2
}
