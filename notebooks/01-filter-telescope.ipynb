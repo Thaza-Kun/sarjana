{
 "cells": [
  {
   "cell_type": "code",
   "execution_count": 1,
   "metadata": {},
   "outputs": [],
   "source": [
    "import pandas as pd"
   ]
  },
  {
   "cell_type": "code",
   "execution_count": 2,
   "metadata": {},
   "outputs": [],
   "source": [
    "data = pd.read_csv('../data/raw/external/FRBSTATS2022-11-23_population.csv')"
   ]
  },
  {
   "cell_type": "code",
   "execution_count": 4,
   "metadata": {},
   "outputs": [
    {
     "data": {
      "text/plain": [
       "CHIME               632\n",
       "ASKAP                56\n",
       "Parkes               40\n",
       "UTMOST               17\n",
       "GBT                  15\n",
       "Arecibo              14\n",
       "LPA                  11\n",
       "WSRT/Apertif          6\n",
       "FAST                  5\n",
       "VLA                   4\n",
       "Effelsberg            4\n",
       "GMRT                  4\n",
       "SRT                   3\n",
       "MeerKAT               3\n",
       "ATA                   1\n",
       "Tianlai               1\n",
       "DSA                   1\n",
       "Stockert              1\n",
       "ASKAP_Incoherent      1\n",
       "Name: telescope, dtype: int64"
      ]
     },
     "execution_count": 4,
     "metadata": {},
     "output_type": "execute_result"
    }
   ],
   "source": [
    "data.telescope.value_counts()"
   ]
  },
  {
   "cell_type": "code",
   "execution_count": 7,
   "metadata": {},
   "outputs": [
    {
     "data": {
      "text/html": [
       "<div>\n",
       "<style scoped>\n",
       "    .dataframe tbody tr th:only-of-type {\n",
       "        vertical-align: middle;\n",
       "    }\n",
       "\n",
       "    .dataframe tbody tr th {\n",
       "        vertical-align: top;\n",
       "    }\n",
       "\n",
       "    .dataframe thead th {\n",
       "        text-align: right;\n",
       "    }\n",
       "</style>\n",
       "<table border=\"1\" class=\"dataframe\">\n",
       "  <thead>\n",
       "    <tr style=\"text-align: right;\">\n",
       "      <th></th>\n",
       "      <th>frb</th>\n",
       "      <th>utc</th>\n",
       "      <th>mjd</th>\n",
       "      <th>telescope</th>\n",
       "      <th>ra</th>\n",
       "      <th>dec</th>\n",
       "      <th>l</th>\n",
       "      <th>b</th>\n",
       "      <th>frequency</th>\n",
       "      <th>dm</th>\n",
       "      <th>flux</th>\n",
       "      <th>width</th>\n",
       "      <th>fluence</th>\n",
       "      <th>snr</th>\n",
       "      <th>reference</th>\n",
       "      <th>redshift</th>\n",
       "      <th>redshift_measured</th>\n",
       "      <th>ra_error</th>\n",
       "      <th>dec_error</th>\n",
       "      <th>dm_error</th>\n",
       "    </tr>\n",
       "  </thead>\n",
       "  <tbody>\n",
       "    <tr>\n",
       "      <th>773</th>\n",
       "      <td>FRB 20201124A</td>\n",
       "      <td>2020-11-24 8:50:42</td>\n",
       "      <td>59177.36854</td>\n",
       "      <td>CHIME</td>\n",
       "      <td>05:07:57.600</td>\n",
       "      <td>+26:11:24.00</td>\n",
       "      <td>177.65</td>\n",
       "      <td>-8.47</td>\n",
       "      <td>600.0</td>\n",
       "      <td>410.83</td>\n",
       "      <td>-</td>\n",
       "      <td>-</td>\n",
       "      <td>-</td>\n",
       "      <td>13.78</td>\n",
       "      <td>https://www.wis-tns.org/object/20201124a</td>\n",
       "      <td>0.2443</td>\n",
       "      <td>-</td>\n",
       "      <td>-</td>\n",
       "      <td>-</td>\n",
       "      <td>3.23</td>\n",
       "    </tr>\n",
       "  </tbody>\n",
       "</table>\n",
       "</div>"
      ],
      "text/plain": [
       "               frb                 utc          mjd telescope            ra  \\\n",
       "773  FRB 20201124A  2020-11-24 8:50:42  59177.36854     CHIME  05:07:57.600   \n",
       "\n",
       "              dec       l     b  frequency      dm flux width fluence    snr  \\\n",
       "773  +26:11:24.00  177.65 -8.47      600.0  410.83    -     -       -  13.78   \n",
       "\n",
       "                                    reference redshift redshift_measured  \\\n",
       "773  https://www.wis-tns.org/object/20201124a   0.2443                 -   \n",
       "\n",
       "    ra_error dec_error dm_error  \n",
       "773        -         -     3.23  "
      ]
     },
     "execution_count": 7,
     "metadata": {},
     "output_type": "execute_result"
    }
   ],
   "source": [
    "data[data.frb == \"FRB 20201124A\"]"
   ]
  },
  {
   "cell_type": "code",
   "execution_count": 19,
   "metadata": {},
   "outputs": [
    {
     "data": {
      "text/plain": [
       "0      FRB20180725A\n",
       "1      FRB20180727A\n",
       "2      FRB20180729A\n",
       "3      FRB20180729B\n",
       "4      FRB20180730A\n",
       "           ...     \n",
       "594    FRB20190701A\n",
       "595    FRB20190701B\n",
       "596    FRB20190701C\n",
       "597    FRB20190701D\n",
       "598    FRB20190701E\n",
       "Name: tns_name, Length: 599, dtype: object"
      ]
     },
     "execution_count": 19,
     "metadata": {},
     "output_type": "execute_result"
    }
   ],
   "source": [
    "chimefrb = pd.read_csv('../data/raw/external/Hashimoto2022_chimefrbcat1.csv')\n",
    "chimefrb.tns_name"
   ]
  }
 ],
 "metadata": {
  "kernelspec": {
   "display_name": "Python 3.9.5 ('.venv': poetry)",
   "language": "python",
   "name": "python3"
  },
  "language_info": {
   "codemirror_mode": {
    "name": "ipython",
    "version": 3
   },
   "file_extension": ".py",
   "mimetype": "text/x-python",
   "name": "python",
   "nbconvert_exporter": "python",
   "pygments_lexer": "ipython3",
   "version": "3.9.15 | packaged by conda-forge | (main, Nov 22 2022, 08:41:22) [MSC v.1929 64 bit (AMD64)]"
  },
  "orig_nbformat": 4,
  "vscode": {
   "interpreter": {
    "hash": "cb2370e8d3d2b1487010e24a0198f6b33af6458daeeee11246273e9b18a27dde"
   }
  }
 },
 "nbformat": 4,
 "nbformat_minor": 2
}
