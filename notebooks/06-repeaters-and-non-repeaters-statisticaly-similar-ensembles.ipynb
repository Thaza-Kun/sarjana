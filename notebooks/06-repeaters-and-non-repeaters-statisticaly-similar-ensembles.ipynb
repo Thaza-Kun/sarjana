{
 "cells": [
  {
   "attachments": {},
   "cell_type": "markdown",
   "metadata": {},
   "source": [
    "---\n",
    "title: \"Reproducing Cui Xiang-Han et. al (2020)'s 'Fast radio bursts: do repeaters and non-repeaters originate in statistically similar ensembles?'\"\n",
    "subtitle: Is it possible that repeaters and non-repeaters have different mechanisms?\n",
    "author: Murthadza Aznam\n",
    "date: '2022-12-26'\n",
    "\n",
    "---"
   ]
  },
  {
   "attachments": {},
   "cell_type": "markdown",
   "metadata": {},
   "source": [
    ":::{.callout-note}\n",
    "\n",
    " 📌 Goal: This notebook tries to reproduce the results from [https://ui.adsabs.harvard.edu/abs/2021MNRAS.500.3275C/abstract](https://ui.adsabs.harvard.edu/abs/2021MNRAS.500.3275C/abstract). As stated in the paper, verbatim \n",
    " \n",
    " > We investigate the statistical classifications for the two groups of samples **to see if the non-repeating and repeating FRBs have different origins** by employing Anderson–Darling (A–D) test and Mann–WhitneyWilcoxon (M–W–W) test\n",
    "\n",
    ":::"
   ]
  },
  {
   "cell_type": "code",
   "execution_count": 1,
   "metadata": {},
   "outputs": [],
   "source": [
    "import pandas as pd\n",
    "import seaborn as sns"
   ]
  },
  {
   "attachments": {},
   "cell_type": "markdown",
   "metadata": {},
   "source": [
    "## 0. Getting The Data\n",
    "The paper uses 111 samples (20 repeating + 91 non-repeating) of FRB.\n",
    "\n",
    "### 0.1 Source\n",
    "The data underlying this article are available in the references below: \n",
    "    1. Spitler et al. ([2016](https://www.nature.com/articles/nature17168)); \n",
    "    2. CHIME/FRB Collaboration ([2019a](https://www.nature.com/articles/s41586-018-0864-x));\n",
    "    3. Kumar et al. ([2019](https://iopscience.iop.org/article/10.3847/2041-8213/ab5b08));\n",
    "    4. CHIME/FRB Collaboration ([2019b](https://iopscience.iop.org/article/10.3847/2041-8213/ab4a80));\n",
    "    5. Fonseca et al. ([2020](https://iopscience.iop.org/article/10.3847/2041-8213/ab7208)). \n",
<<<<<<< HEAD
    "Some data of FRBs are taken from the data base of FRBCAT, available at http://www.frbcat.org/.\n",
    "\n",
    "Our data of FRBs are taken from the data base of FRB Catalogue, and those for repeating FRBs come from FRBCAT and published papers (mentioned above). \n",
    "\n",
    "According to FRBCAT, there is a significant gap between ∼35 and ∼300 ms in pulse width. \n",
    "However, we notice that the measurements with pulse width larger than ∼300 ms all come from one radio facility, i.e. the radio telescope BSA LPI of the Pushchino Radio Astronomy Observatory, in which the time interval between samples is 100 ms (Fedorova & Rodin 2019). \n",
    "Considering that there may exist some observational bias effects in these data, we only include the pulses with a width shorter than ∼35 ms (80 non-repeaters). \n",
    "For non-repeating FRBs, the possibility of repetition cannot be rejected; in particular, repeating signals from FRB171019 have been observed (Kumar et al. 2019) in 2019. \n",
    "However, our analysis is based on the current observational data, and the phenomenon of repeating signals in non-repeaters is difficult to predict at present. \n",
    "Therefore, we treat the apparently non-repeating sources as real non-repeaters under current circumstances. \n",
    "For repeating FRBs, two or more observations are included. \n",
    "Thus, we calculate the average pulse width and radio luminosity of each source as representative of its pulse width and radio luminosity, respectively. \n",
    "Since the pulse width in the FRBCAT is the observed width, which is easily affected by dispersion, to study the pulse width more accurately, we need to introduce the intrinsic width that is estimated by equation:\n",
    "$$\n",
    "t_i = \\sqrt{t^2_\\text{obs} − t^2_\\text{DM} − t^2_s}\n",
    "$$\n",
    "In the above formula, $t_i(t_\\text{obs})$ is the intrinsic width (observed width), with $t_s$ being the sampling time that depends on the instrument, and $t_\\text{DM}$ is the dispersion smearing time-scale as calculated in the following: \n",
    "$$\n",
    "t_\\text{DM} = 8.3 \\times 10^{−3} \\text{DM}\\frac{\\Delta ν_\\text{MHz}}{ν^3_\\text{GHz}} ms,\n",
    "$$\n",
    "where DM is the dispersion measure, $\\Delta ν_\\text{MHz}$ is the channel bandwidth in the unit of MHz, and $ν_\\text{GHz}$ is the central frequency in the unit of GHz. \n",
    "Therefore, the pulse width in the following text represents the intrinsic width. \n",
    "In Table 1, we summarize the properties of 20 repeating FRBs, by listing the observed width, intrinsic width, flux density, fluence, and luminosity distance.\n",
    "\n",
    "![](xiang-han2020-table1.png)"
   ]
  },
  {
   "cell_type": "markdown",
   "metadata": {},
   "source": []
=======
    "Some data of FRBs are taken from the data base of FRBCAT, available at http://www.frbcat.org/."
   ]
>>>>>>> feacbe75a630a2733cfe74e55ed30db26479b8c1
  }
 ],
 "metadata": {
  "kernelspec": {
   "display_name": ".venv",
   "language": "python",
   "name": "python3"
  },
  "language_info": {
   "codemirror_mode": {
    "name": "ipython",
    "version": 3
   },
   "file_extension": ".py",
   "mimetype": "text/x-python",
   "name": "python",
   "nbconvert_exporter": "python",
   "pygments_lexer": "ipython3",
   "version": "3.8.10"
  },
  "orig_nbformat": 4,
  "vscode": {
   "interpreter": {
    "hash": "cb2370e8d3d2b1487010e24a0198f6b33af6458daeeee11246273e9b18a27dde"
   }
  }
 },
 "nbformat": 4,
 "nbformat_minor": 2
}
