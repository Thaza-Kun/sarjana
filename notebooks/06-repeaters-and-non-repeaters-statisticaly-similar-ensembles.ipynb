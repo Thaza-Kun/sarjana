{
 "cells": [
  {
   "attachments": {},
   "cell_type": "markdown",
   "metadata": {},
   "source": [
    "---\n",
    "title: \"Reproducing Cui Xiang-Han et. al (2020)'s 'Fast radio bursts: do repeaters and non-repeaters originate in statistically similar ensembles?'\"\n",
    "subtitle: Is it possible that repeaters and non-repeaters have different mechanisms?\n",
    "author: Murthadza Aznam\n",
    "date: '2022-12-26'\n",
    "\n",
    "---"
   ]
  },
  {
   "attachments": {},
   "cell_type": "markdown",
   "metadata": {},
   "source": [
    ":::{.callout-note}\n",
    "\n",
    " 📌 Goal: This notebook tries to reproduce the results from [https://ui.adsabs.harvard.edu/abs/2021MNRAS.500.3275C/abstract](https://ui.adsabs.harvard.edu/abs/2021MNRAS.500.3275C/abstract). As stated in the paper, verbatim \n",
    " \n",
    " > We investigate the statistical classifications for the two groups of samples **to see if the non-repeating and repeating FRBs have different origins** by employing Anderson–Darling (A–D) test and Mann–WhitneyWilcoxon (M–W–W) test\n",
    "\n",
    ":::"
   ]
  },
  {
   "cell_type": "code",
   "execution_count": 1,
   "metadata": {},
   "outputs": [],
   "source": [
    "import pandas as pd\n",
    "import seaborn as sns"
   ]
  },
  {
   "attachments": {},
   "cell_type": "markdown",
   "metadata": {},
   "source": [
    "## 0. Getting The Data\n",
    "The paper uses 111 samples (20 repeating + 91 non-repeating) of FRB.\n",
    "\n",
    "### 0.1 Source\n",
    "The data underlying this article are available in the references below: \n",
    "    1. Spitler et al. ([2016](https://www.nature.com/articles/nature17168)); \n",
    "    2. CHIME/FRB Collaboration ([2019a](https://www.nature.com/articles/s41586-018-0864-x));\n",
    "    3. Kumar et al. ([2019](https://iopscience.iop.org/article/10.3847/2041-8213/ab5b08));\n",
    "    4. CHIME/FRB Collaboration ([2019b](https://iopscience.iop.org/article/10.3847/2041-8213/ab4a80));\n",
    "    5. Fonseca et al. ([2020](https://iopscience.iop.org/article/10.3847/2041-8213/ab7208)). \n",
    "Some data of FRBs are taken from the data base of FRBCAT, available at http://www.frbcat.org/."
   ]
  }
 ],
 "metadata": {
  "kernelspec": {
   "display_name": ".venv",
   "language": "python",
   "name": "python3"
  },
  "language_info": {
   "codemirror_mode": {
    "name": "ipython",
    "version": 3
   },
   "file_extension": ".py",
   "mimetype": "text/x-python",
   "name": "python",
   "nbconvert_exporter": "python",
   "pygments_lexer": "ipython3",
   "version": "3.8.10"
  },
  "orig_nbformat": 4,
  "vscode": {
   "interpreter": {
    "hash": "cb2370e8d3d2b1487010e24a0198f6b33af6458daeeee11246273e9b18a27dde"
   }
  }
 },
 "nbformat": 4,
 "nbformat_minor": 2
}
