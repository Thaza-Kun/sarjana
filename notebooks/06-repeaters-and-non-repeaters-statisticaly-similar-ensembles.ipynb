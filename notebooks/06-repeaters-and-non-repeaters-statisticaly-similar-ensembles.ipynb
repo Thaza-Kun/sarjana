{
 "cells": [
  {
   "attachments": {},
   "cell_type": "markdown",
   "metadata": {},
   "source": [
    "---\n",
    "title: \"Reproducing Cui Xiang-Han et. al (2020)'s 'Fast radio bursts: do repeaters and non-repeaters originate in statistically similar ensembles?'\"\n",
    "subtitle: Is it possible that repeaters and non-repeaters have different mechanisms?\n",
    "author: Murthadza Aznam\n",
    "date: '2022-12-26'\n",
    "\n",
    "---"
   ]
  },
  {
   "attachments": {},
   "cell_type": "markdown",
   "metadata": {},
   "source": [
    ":::{.callout-note}\n",
    "\n",
    " 📌 Goal: This notebook tries to reproduce the results from [https://ui.adsabs.harvard.edu/abs/2021MNRAS.500.3275C/abstract](https://ui.adsabs.harvard.edu/abs/2021MNRAS.500.3275C/abstract). As stated in the paper, verbatim \n",
    " \n",
    " > We investigate the statistical classifications for the two groups of samples **to see if the non-repeating and repeating FRBs have different origins** by employing Anderson–Darling (A–D) test and Mann–WhitneyWilcoxon (M–W–W) test\n",
    "\n",
    ":::"
   ]
  },
  {
   "cell_type": "code",
   "execution_count": 1,
   "metadata": {},
   "outputs": [],
   "source": [
    "#| echo: false\n",
    "import warnings\n",
    "\n",
    "warnings.filterwarnings('ignore')"
   ]
  },
  {
   "cell_type": "code",
   "execution_count": 2,
   "metadata": {},
   "outputs": [],
   "source": [
    "import pandas as pd\n",
    "import seaborn as sns; sns.set_theme()\n",
    "import matplotlib.pyplot as plt\n",
    "import numpy as np\n",
    "import scipy.interpolate as interpolate"
   ]
  },
  {
   "attachments": {},
   "cell_type": "markdown",
   "metadata": {},
   "source": [
    "## 0. Getting The Data\n",
    "\n",
    "### 0.1 Source\n",
    "The data underlying said article are available in the references below: \n",
    "\n",
    "1. Spitler et al. ([2016](https://www.nature.com/articles/nature17168)); \n",
    "2. CHIME/FRB Collaboration ([2019a](https://www.nature.com/articles/s41586-018-0864-x));\n",
    "3. Kumar et al. ([2019](https://iopscience.iop.org/article/10.3847/2041-8213/ab5b08));\n",
    "4. CHIME/FRB Collaboration ([2019b](https://iopscience.iop.org/article/10.3847/2041-8213/ab4a80));\n",
    "5. Fonseca et al. ([2020](https://iopscience.iop.org/article/10.3847/2041-8213/ab7208)). \n",
    "\n",
    "Some data of FRBs are taken from the data base of FRBCAT, available at http://www.frbcat.org/.\n",
    "\n",
    "\n",
    "#### 0.1.1 Non-Repeaters\n",
    "\n",
    "However, I have not been able to effectively filter out repeater from the whole population in the FRBCAT Database.\n",
    "Therefore, I joined it with FRBSTATS where the repeater population has been listed on its `utc` column rounded to the nearest second.\n",
    "\n",
    ":::{.callout-warning}\n",
    "## Deprecated\n",
    "\n",
    "So I used the FRBSTATS^[https://www.herta-experiment.org/frbstats/] as a proxy with the described filters:\n",
    "\n",
    "- `width` <= 35\n",
    "- is not identified as `repeater`\n",
    "- The FRB is observed between FRBCAT's minimum dan maximum `utc` datetime   \n",
    "- `telescope` is also available in the FRBCAT catalogue, except 'CHIME/FRB'^[Even with the described filters, the CHIME/FRB telescope dominates the dataset making up >500 data points while it is not that prominent in FBRCAT and also the total data points is less than 100]\n",
    ":::\n",
    "\n",
    "Using the described filters, I have been able to obtain 88 data points.\n",
    "It is close to the papers sample of 80 ~ 91^[The paper mentioned both numbers. The lower limit of 80 is mentioned in the conclusion but the upper limit of 91 is mentioned in the abstract. So I took it as a range instead.]"
   ]
  },
  {
   "cell_type": "code",
   "execution_count": 3,
   "metadata": {},
   "outputs": [
    {
     "name": "stdout",
     "output_type": "stream",
     "text": [
      "<class 'pandas.core.frame.DataFrame'>\n",
      "Int64Index: 107 entries, 0 to 117\n",
      "Data columns (total 14 columns):\n",
      " #   Column           Non-Null Count  Dtype         \n",
      "---  ------           --------------  -----         \n",
      " 0   frb_name         107 non-null    object        \n",
      " 1   utc              107 non-null    datetime64[ns]\n",
      " 2   telescope        107 non-null    object        \n",
      " 3   rop_raj          107 non-null    object        \n",
      " 4   rop_decj         107 non-null    object        \n",
      " 5   rop_gl           107 non-null    float64       \n",
      " 6   rop_gb           107 non-null    float64       \n",
      " 7   sampling_time    106 non-null    float64       \n",
      " 8   bandwidth_MHz    107 non-null    float64       \n",
      " 9   center_freq_MHz  107 non-null    float64       \n",
      " 10  rmp_dm           107 non-null    float64       \n",
      " 11  rmp_dm_error     107 non-null    float64       \n",
      " 12  rmp_width        107 non-null    float64       \n",
      " 13  rmp_snr          104 non-null    float64       \n",
      "dtypes: datetime64[ns](1), float64(9), object(4)\n",
      "memory usage: 12.5+ KB\n"
     ]
    }
   ],
   "source": [
    "# Load FRBCAT Catalogue\n",
    "\n",
    "frbcat = pd.read_csv(\"../data/raw/external/frbcat_20221227.csv\", parse_dates=['utc']).rename(\n",
    "    columns={\n",
    "        'rop_sampling_time': 'sampling_time',\n",
    "        'rop_bandwidth': 'bandwidth_MHz',\n",
    "        'rop_centre_frequency': 'center_freq_MHz'\n",
    "        })\n",
    "frbcat['utc'] = frbcat['utc'].round('S')\n",
    "frbcat = frbcat[frbcat['rmp_width'] <= 35]\n",
    "frbcat.info()"
   ]
  },
  {
   "cell_type": "code",
   "execution_count": 4,
   "metadata": {},
   "outputs": [
    {
     "name": "stdout",
     "output_type": "stream",
     "text": [
      "<class 'pandas.core.frame.DataFrame'>\n",
      "Int64Index: 84 entries, 0 to 83\n",
      "Data columns (total 25 columns):\n",
      " #   Column             Non-Null Count  Dtype         \n",
      "---  ------             --------------  -----         \n",
      " 0   utc                84 non-null     datetime64[ns]\n",
      " 1   sampling_time      84 non-null     float64       \n",
      " 2   bandwidth_MHz      84 non-null     float64       \n",
      " 3   center_freq_MHz    84 non-null     float64       \n",
      " 4   rmp_width          84 non-null     float64       \n",
      " 5   frb                84 non-null     object        \n",
      " 6   mjd                84 non-null     float64       \n",
      " 7   telescope          84 non-null     object        \n",
      " 8   ra                 84 non-null     object        \n",
      " 9   dec                84 non-null     object        \n",
      " 10  l                  84 non-null     float64       \n",
      " 11  b                  84 non-null     float64       \n",
      " 12  frequency          84 non-null     float64       \n",
      " 13  dm                 84 non-null     float64       \n",
      " 14  flux               77 non-null     float64       \n",
      " 15  width              84 non-null     float64       \n",
      " 16  fluence            81 non-null     float64       \n",
      " 17  snr                82 non-null     float64       \n",
      " 18  reference          84 non-null     object        \n",
      " 19  redshift           83 non-null     float64       \n",
      " 20  redshift_measured  6 non-null      float64       \n",
      " 21  ra_error           83 non-null     float64       \n",
      " 22  dec_error          83 non-null     float64       \n",
      " 23  dm_error           82 non-null     float64       \n",
      " 24  repeater           84 non-null     bool          \n",
      "dtypes: bool(1), datetime64[ns](1), float64(18), object(5)\n",
      "memory usage: 18.5+ KB\n"
     ]
    }
   ],
   "source": [
    "# Load FRBSTATS catalogue and do appropriate filter\n",
    "\n",
    "# A separate list is used because FRBCAT uses a different name\n",
    "frbstats_telescope_names_available_in_frbcat = ['Parkes', 'Arecibo', 'Pushchino', 'FAST', 'DSA', 'CHIME', 'WSRT/Apertif', 'UTMOST', 'VLA', 'GBT', 'ASKAP']\n",
    "frbstats_float_columns = ['l', 'b', 'frequency', 'dm', 'flux', 'width', 'fluence', 'snr', 'redshift']\n",
    "\n",
    "repeaters_samples = pd.read_csv('../data/raw/external/FRBSTATS2022-11-23_repeaters.csv', index_col=0)\n",
    "frbstats = pd.read_csv('../data/raw/external/FRBSTATS2022-11-23_population.csv', \n",
    "    parse_dates=['utc'], \n",
    "    dtype={telescope: float for telescope in frbstats_telescope_names_available_in_frbcat},\n",
    "    na_values=[\"-\"]\n",
    "    )\n",
    "frbstats['utc'].round('S')\n",
    "# Label repeaters\n",
    "frbstats[\"repeater\"] = False\n",
    "frbstats.loc[frbstats[\"frb\"].isin(repeaters_samples[\"samples\"]),\"repeater\"] = True\n",
    "\n",
    "# !! Filter is deprecated\n",
    "# selected_data = frbstats[\n",
    "#     (frbstats['repeater'] == False) & \n",
    "#     (frbstats[\"width\"] <= 35) &\n",
    "#     (frbstats[\"telescope\"].isin(frbstats_telescope_names_available_in_frbcat)) &\n",
    "#     (frbstats['telescope'] != 'CHIME') &\n",
    "#     (frbstats[\"utc\"].between(frbcat[\"utc\"].min(), frbcat[\"utc\"].max()))\n",
    "#     ]\n",
    "\n",
    "selected_data = pd.merge(frbcat[['utc', 'sampling_time', 'bandwidth_MHz', 'center_freq_MHz', 'rmp_width']], frbstats[frbstats['repeater'] == False], on='utc')\n",
    "\n",
    "# Handle NaN values\n",
    "selected_data.loc[selected_data['width'].isna(), ['width']] = selected_data['rmp_width']\n",
    "selected_data.loc[selected_data['sampling_time'].isna(), ['sampling_time']] = 0\n",
    "\n",
    "selected_data.info()"
   ]
  },
  {
   "attachments": {},
   "cell_type": "markdown",
   "metadata": {},
   "source": [
    "In order the accept that both these data describe the same sample, I plotted the overlap between our selected data and the original FRBCAT data."
   ]
  },
  {
   "cell_type": "code",
   "execution_count": 5,
   "metadata": {},
   "outputs": [
    {
     "data": {
      "text/plain": [
       "<seaborn.axisgrid.FacetGrid at 0x2292bc91580>"
      ]
     },
     "execution_count": 5,
     "metadata": {},
     "output_type": "execute_result"
    },
    {
     "data": {
      "image/png": "[encoded data removed]",
      "text/plain": [
       "<Figure size 647.875x500 with 1 Axes>"
      ]
     },
     "metadata": {},
     "output_type": "display_data"
    }
   ],
   "source": [
    "frbcat_ = frbcat.rename(columns={'frb_name':'frb','rop_raj': 'ra', 'rop_decj': 'dec', 'rop_gb': 'b', 'rop_gl': 'l', 'rmp_width': 'width', 'rmp_dm': 'dm', 'rmp_snr': 'snr'})\n",
    "frbcat_.loc[:, ['source']] = 'frbcat'\n",
    "frbstats_ = selected_data[['frb', 'utc', 'telescope', 'ra', 'dec', 'l', 'b', 'dm', 'width', 'snr']]\n",
    "frbstats_.loc[:, ['source']] = 'frbstats'\n",
    "frbpopulation_merged = pd.concat([frbcat_, frbstats_])\n",
    "\n",
    "sns.relplot(data=frbpopulation_merged, x='utc', y='width', style='source', hue='telescope')"
   ]
  },
  {
   "attachments": {},
   "cell_type": "markdown",
   "metadata": {},
   "source": [
    "#### 0.1.2 Repeaters\n",
    "\n",
    "Data on repeaters are easy to obtain. \n",
    "The authors are kind enough to provide table on all 20 samples used in the study.\n",
    "\n",
    "![](xiang-han2020-table1.png)"
   ]
  },
  {
   "cell_type": "code",
   "execution_count": 6,
   "metadata": {},
   "outputs": [],
   "source": [
    "xianghan = pd.read_csv('../data/raw/external/XiangHan2020_ensemble-repeaters.csv')"
   ]
  },
  {
   "cell_type": "code",
   "execution_count": 7,
   "metadata": {},
   "outputs": [
    {
     "data": {
      "text/markdown": [
       "|    |   No. | Sources            |   Observed width (ms) |   Intrinsic width (ms) |   Flux density (Jy) |   Fluence (Jy ms) |   Distance (Gpc) | Refs.    |\n",
       "|---:|------:|:-------------------|----------------------:|-----------------------:|--------------------:|------------------:|-----------------:|:---------|\n",
       "|  0 |     1 | FRB121102.J000+00  |                  4.82 |                   4.78 |                0.25 |             0.372 |             1.61 | (1)      |\n",
       "|  1 |     2 | FRB180814.J0422+73 |                 22.57 |                  23.43 |              nan    |            22.57  |             0.39 | (2)(3)   |\n",
       "|  2 |     3 | FRB171019.J000+00  |                  4.62 |                   4.08 |              nan    |           101.54  |             1.89 | (4)      |\n",
       "|  3 |     4 | FRB180916.J0158+65 |                  5.27 |                   5.16 |                2.08 |             1.62  |             0.58 | (5)      |\n",
       "|  4 |     5 | FRB181030.J1054+73 |                  1.01 |                   0.1  |                3.15 |             4.75  |             0.24 | (5)      |\n",
       "|  5 |     6 | FRB181128.J0456+63 |                  5.9  |                   5.8  |                0.4  |             3.45  |             1.14 | (5)      |\n",
       "|  6 |     7 | FRB181119.J12+65   |                  3.49 |                   3.33 |                0.43 |             1.77  |             1.42 | (5)      |\n",
       "|  7 |     8 | FRB190116.J1249+27 |                  2.75 |                   2.53 |                0.35 |             1.8   |             1.9  | (5)      |\n",
       "|  8 |     9 | FRB181017.J1705+68 |                 16.8  |                  16.73 |                0.4  |             8.5   |             6.97 | (5)      |\n",
       "|  9 |    10 | FRB190209.J0937+77 |                  6.55 |                   6.46 |                0.5  |             1.25  |             1.66 | (5)      |\n",
       "| 10 |    11 | FRB190222.J2052+69 |                  2.71 |                   2.48 |                1.65 |             5.45  |             1.64 | (5)      |\n",
       "| 11 |    12 | FRB190208.J1855+46 |                  1.11 |                   0.14 |                0.5  |             1.7   |             2.35 | (6)      |\n",
       "| 12 |    13 | FRB180908.J1232+74 |                  3.83 |                   3.7  |                2.9  |             0.5   |             0.62 | (6)      |\n",
       "| 13 |    14 | FRB190604.J1435+53 |                  2.1  |                   1.78 |                0.75 |             8.3   |             2.42 | (6)      |\n",
       "| 14 |    15 | FRB190212.J18+81   |                  3.1  |                   2.93 |                0.75 |             2.75  |             1.05 | (6)      |\n",
       "| 15 |    16 | FRB190303.J1353+48 |                  3.2  |                   3.04 |                0.47 |             2.67  |             0.77 | (6)      |\n",
       "| 16 |    17 | FRB190417.J1939+59 |                  4.5  |                   4.2  |                0.53 |             3.1   |             7.4  | (6)      |\n",
       "| 17 |    18 | FRB190117.J2207+17 |                  2.74 |                   2.53 |                1    |             6.36  |             1.49 | (6)      |\n",
       "| 18 |    19 | FRB190213.J02+20   |                  7    |                   6.9  |                0.5  |             1.8   |             2.91 | (6)      |\n",
       "| 19 |    20 | FRB190907.J08+46   |                  2.18 |                   1.92 |                0.3  |             2.03  |             1.07 | (6)      |"
      ],
      "text/plain": [
       "<IPython.core.display.Markdown object>"
      ]
     },
     "execution_count": 7,
     "metadata": {},
     "output_type": "execute_result"
    }
   ],
   "source": [
    "#| echo: false\n",
    "from IPython.display import Markdown\n",
    "\n",
    "Markdown(xianghan.to_markdown())"
   ]
  },
  {
   "attachments": {},
   "cell_type": "markdown",
   "metadata": {},
   "source": [
    "## 1.0 Preprocessing"
   ]
  },
  {
   "attachments": {},
   "cell_type": "markdown",
   "metadata": {},
   "source": [
    "### 1.1 Parameters\n",
    "\n",
    "We first process our data to uncover these parameters:\n",
    "\n",
    "1. Pulse width\n",
    "2. Radio Luminosity\n",
    "\n",
    "#### 1.1.1 Pulse Width\n",
    "Since the pulse width in the FRBCAT is the observed width, which is easily affected by dispersion, to study the pulse width more accurately, we need to introduce the intrinsic width that is estimated by equation:\n",
    "$$\n",
    "t_i = \\sqrt{t^2_\\text{obs} − t^2_\\text{DM} − t^2_s}\n",
    "$$\n",
    "In the above formula, $t_i(t_\\text{obs})$ is the intrinsic width (observed width), with $t_s$ being the sampling time that depends on the instrument, and $t_\\text{DM}$ is the dispersion smearing time-scale as calculated in the following: \n",
    "$$\n",
    "t_\\text{DM} = 8.3 \\times 10^{−3} \\text{DM}\\frac{\\Delta ν_\\text{MHz}}{ν^3_\\text{GHz}} ms,\n",
    "$$\n",
    "where DM is the dispersion measure, $\\Delta ν_\\text{MHz}$ is the channel bandwidth in the unit of MHz, and $ν_\\text{GHz}$ is the central frequency in the unit of GHz. \n",
    "Therefore, the pulse width in the following text represents the intrinsic width."
   ]
  },
  {
   "cell_type": "code",
   "execution_count": 8,
   "metadata": {},
   "outputs": [],
   "source": [
    "def dispersion_smearing_timescale(dispersion_measure, bandwidth_MHz, center_freq_GHz) -> float:\n",
    "    return 8.3e-6 * dispersion_measure * (bandwidth_MHz / center_freq_GHz**3)\n",
    "\n",
    "def instrinsic_width(observed_width, sampling_time, dispersion_measure, bandwidth_MHz, center_freq_GHz) -> float:\n",
    "    return np.sqrt(abs((observed_width**2 - dispersion_smearing_timescale(dispersion_measure, bandwidth_MHz, center_freq_GHz)**2 - sampling_time**2)))"
   ]
  },
  {
   "cell_type": "code",
   "execution_count": 9,
   "metadata": {},
   "outputs": [],
   "source": [
    "selected_data.loc[:, 'intrinsic_width_ms'] = instrinsic_width(\n",
    "    selected_data['width'], \n",
    "    selected_data['sampling_time'], \n",
    "    selected_data['dm'], \n",
    "    selected_data['bandwidth_MHz'], \n",
    "    selected_data['center_freq_MHz']*0.001)"
   ]
  },
  {
   "cell_type": "code",
   "execution_count": 10,
   "metadata": {},
   "outputs": [],
   "source": [
    "frbcat.loc[:, 'intrinsic_width_ms'] = instrinsic_width(\n",
    "    frbcat['rmp_width'],\n",
    "    frbcat['sampling_time'],\n",
    "    frbcat['rmp_dm'],\n",
    "    frbcat['bandwidth_MHz'],\n",
    "    frbcat['center_freq_MHz']*0.001\n",
    ")"
   ]
  },
  {
   "attachments": {},
   "cell_type": "markdown",
   "metadata": {},
   "source": [
    "#### 1.1.2 Radio Luminosity"
   ]
  },
  {
   "attachments": {},
   "cell_type": "markdown",
   "metadata": {},
   "source": [
    "## 2.0 Statistical Test\n",
    "\n",
    "### 2.1 Anderson--Darling Test\n",
    "\n",
    "An Anderson--Darling test (A-D test) is used to measure the likelihood that a sample follows a certain distribution."
   ]
  },
  {
   "cell_type": "code",
   "execution_count": 11,
   "metadata": {},
   "outputs": [
    {
     "data": {
      "text/plain": [
       "(5.101000000000001, 5.542362122302804)"
      ]
     },
     "execution_count": 11,
     "metadata": {},
     "output_type": "execute_result"
    }
   ],
   "source": [
    "xianghan['Intrinsic width (ms)'].mean(), xianghan['Intrinsic width (ms)'].std()"
   ]
  },
  {
   "cell_type": "code",
   "execution_count": 25,
   "metadata": {},
   "outputs": [
    {
     "data": {
      "text/plain": [
       "18.309025157888357"
      ]
     },
     "execution_count": 25,
     "metadata": {},
     "output_type": "execute_result"
    }
   ],
   "source": [
    "from scipy.special import erf\n",
    "\n",
    "xianghan['z_score'] = (xianghan['Intrinsic width (ms)'] - xianghan['Intrinsic width (ms)'].mean())/xianghan['Intrinsic width (ms)'].std()\n",
    "xianghan['pdf'] = (1/(xianghan['Intrinsic width (ms)'].std()*np.sqrt(2*np.pi)))*np.exp(-0.5*(xianghan['z_score']**2))\n",
    "sorted_pdf = xianghan.sort_values(by='Intrinsic width (ms)')['pdf']\n",
    "xianghan['erf_gauss'] = erf((xianghan['z_score']/np.sqrt(2)))\n",
    "xianghan['cdf'] = 0.5*(1+xianghan['erf_gauss'])\n",
    "xianghan['survival_func'] = 1 - xianghan['cdf']\n",
    "S_ = []\n",
    "N = len(xianghan['Intrinsic width (ms)'])\n",
    "for i, val in enumerate(xianghan['Intrinsic width (ms)'].sort_values(), start=1):\n",
    "    val_1 = ((2*i)-1)*np.log(xianghan['cdf'].sort_values()[i-1])\n",
    "    val_2 = ((2*N) - (2*i) + 1)*np.log(xianghan['cdf'].sort_values()[i-1])\n",
    "    # val = np.log(xianghan['cdf'].sort_values()[i-1]) + np.log(1-xianghan['survival_func'].sort_values(ascending=False)[i-1])\n",
    "    S_.append(val_1 + val_2)\n",
    "coeff = 1/N\n",
    "A_2 = -len(xianghan['Intrinsic width (ms)']) - coeff*sum(S_)\n",
    "# sns.relplot(xianghan, x='Intrinsic width (ms)', y='survival_func', kind='line')\n",
    "# sns.relplot(xianghan, x='Intrinsic width (ms)', y='cdf', kind='line')\n",
    "# sns.ecdfplot(selected_data[:int(len(selected_data['intrinsic_width_ms'])/2)], x='intrinsic_width_ms')\n",
    "# sns.ecdfplot(selected_data[int(len(selected_data['intrinsic_width_ms'])/2):], x='intrinsic_width_ms')\n",
    "# sns.ecdfplot(frbcat, x='intrinsic_width_ms')\n",
    "A_2*(1+(4/N)-(25/(N**2)))"
   ]
  },
  {
   "cell_type": "code",
   "execution_count": 13,
   "metadata": {},
   "outputs": [
    {
     "data": {
      "text/plain": [
       "0     0.523093\n",
       "1     0.000471\n",
       "2     0.573079\n",
       "3     0.495753\n",
       "4     0.816557\n",
       "5     0.449819\n",
       "6     0.625341\n",
       "7     0.678634\n",
       "8     0.017944\n",
       "9     0.403150\n",
       "10    0.681859\n",
       "11    0.814635\n",
       "12    0.599781\n",
       "13    0.725481\n",
       "14    0.652364\n",
       "15    0.645003\n",
       "16    0.564570\n",
       "17    0.678634\n",
       "18    0.372745\n",
       "19    0.716997\n",
       "Name: survival_func, dtype: float64"
      ]
     },
     "execution_count": 13,
     "metadata": {},
     "output_type": "execute_result"
    }
   ],
   "source": [
    "xianghan['survival_func']"
   ]
  },
  {
   "cell_type": "code",
   "execution_count": 14,
   "metadata": {},
   "outputs": [],
   "source": [
    "cdf = sorted_pdf.cumsum()"
   ]
  },
  {
   "cell_type": "code",
   "execution_count": 15,
   "metadata": {},
   "outputs": [
    {
     "data": {
      "text/plain": [
       "12.235782299490147"
      ]
     },
     "execution_count": 15,
     "metadata": {},
     "output_type": "execute_result"
    }
   ],
   "source": [
    "def CDF(x, y):\n",
    "    func = interpolate.interp1d(x, y)\n",
    "    cdf_at_x = list()\n",
    "    for i, k in enumerate(y):\n",
    "        if i == 0:\n",
    "            cdf_at_x.append(k)\n",
    "        else:\n",
    "            cdf_at_x.append(k + cdf_at_x[i-1])\n",
    "    return np.array(cdf_at_x)/max(cdf_at_x)\n",
    "\n",
    "def SurvivalFunc(cdf: np.ndarray) -> np.ndarray:\n",
    "    return 1-cdf\n",
    "\n",
    "cdf = CDF(xianghan['Intrinsic width (ms)'], xianghan['Intrinsic width (ms)'].sort_values())\n",
    "sf = SurvivalFunc(cdf)\n",
    "S_ = list()\n",
    "for i, cdf_ in enumerate(cdf, start=1):\n",
    "    coeff = ((2*i)-1)/len(cdf)\n",
    "    val = np.log(cdf_) + np.log(sf[i-1])\n",
    "    if val == np.infty or val == -np.infty:\n",
    "        val = 0\n",
    "    S_.append(coeff*val)\n",
    "-len(cdf)-sum(S_)\n"
   ]
  },
  {
   "cell_type": "code",
   "execution_count": 16,
   "metadata": {},
   "outputs": [
    {
     "data": {
      "text/plain": [
       "AndersonResult(statistic=2.386069262367567, critical_values=array([0.506, 0.577, 0.692, 0.807, 0.96 ]), significance_level=array([15. , 10. ,  5. ,  2.5,  1. ]))"
      ]
     },
     "execution_count": 16,
     "metadata": {},
     "output_type": "execute_result"
    }
   ],
   "source": [
    "from scipy.stats import anderson, shapiro, kstest, norm\n",
    "\n",
    "anderson(xianghan['Intrinsic width (ms)'], dist='norm')"
   ]
  },
  {
   "cell_type": "code",
   "execution_count": 17,
   "metadata": {},
   "outputs": [
    {
     "data": {
      "text/plain": [
       "AndersonResult(statistic=8.80968649682626, critical_values=array([0.556, 0.634, 0.76 , 0.887, 1.055]), significance_level=array([15. , 10. ,  5. ,  2.5,  1. ]))"
      ]
     },
     "execution_count": 17,
     "metadata": {},
     "output_type": "execute_result"
    }
   ],
   "source": [
    "anderson(frbcat['intrinsic_width_ms'].dropna(), dist='norm')"
   ]
  },
  {
   "cell_type": "code",
   "execution_count": 18,
   "metadata": {},
   "outputs": [
    {
     "data": {
      "text/plain": [
       "MannwhitneyuResult(statistic=75.5, pvalue=0.05868668127026372)"
      ]
     },
     "execution_count": 18,
     "metadata": {},
     "output_type": "execute_result"
    }
   ],
   "source": [
    "from scipy.stats import mannwhitneyu\n",
    "\n",
    "mannwhitneyu(xianghan['Intrinsic width (ms)'][:10], xianghan['Intrinsic width (ms)'][10:])"
   ]
  },
  {
   "cell_type": "code",
   "execution_count": 19,
   "metadata": {},
   "outputs": [
    {
     "name": "stdout",
     "output_type": "stream",
     "text": [
      "AndersonResult(statistic=1.4308038840282826, critical_values=array([0.501, 0.571, 0.685, 0.799, 0.951]), significance_level=array([15. , 10. ,  5. ,  2.5,  1. ]))\n",
      "0      FRB121102.J000+00\n",
      "2      FRB171019.J000+00\n",
      "3     FRB180916.J0158+65\n",
      "4     FRB181030.J1054+73\n",
      "5     FRB181128.J0456+63\n",
      "6       FRB181119.J12+65\n",
      "7     FRB190116.J1249+27\n",
      "8     FRB181017.J1705+68\n",
      "9     FRB190209.J0937+77\n",
      "10    FRB190222.J2052+69\n",
      "12    FRB180908.J1232+74\n",
      "13    FRB190604.J1435+53\n",
      "14      FRB190212.J18+81\n",
      "15    FRB190303.J1353+48\n",
      "16    FRB190417.J1939+59\n",
      "17    FRB190117.J2207+17\n",
      "18      FRB190213.J02+20\n",
      "Name: Sources, dtype: object\n"
     ]
    }
   ],
   "source": [
    "exclude = [2, 12, 20]\n",
    "# 2, 19, 7  = 1.42809\n",
    "# 2, 12, 20 = 1.43080\n",
    "\n",
    "sample = xianghan[xianghan['No.'].isin(exclude) == False]\n",
    "\n",
    "print(anderson(sample['Intrinsic width (ms)'], dist='norm'))\n",
    "print(sample['Sources'])"
   ]
  },
  {
   "cell_type": "code",
   "execution_count": 20,
   "metadata": {},
   "outputs": [
    {
     "data": {
      "text/html": [
       "<div>\n",
       "<style scoped>\n",
       "    .dataframe tbody tr th:only-of-type {\n",
       "        vertical-align: middle;\n",
       "    }\n",
       "\n",
       "    .dataframe tbody tr th {\n",
       "        vertical-align: top;\n",
       "    }\n",
       "\n",
       "    .dataframe thead th {\n",
       "        text-align: right;\n",
       "    }\n",
       "</style>\n",
       "<table border=\"1\" class=\"dataframe\">\n",
       "  <thead>\n",
       "    <tr style=\"text-align: right;\">\n",
       "      <th></th>\n",
       "      <th>intrinsic_width_ms</th>\n",
       "      <th>source</th>\n",
       "    </tr>\n",
       "  </thead>\n",
       "  <tbody>\n",
       "    <tr>\n",
       "      <th>0</th>\n",
       "      <td>4.780000</td>\n",
       "      <td>repeater</td>\n",
       "    </tr>\n",
       "    <tr>\n",
       "      <th>1</th>\n",
       "      <td>23.430000</td>\n",
       "      <td>repeater</td>\n",
       "    </tr>\n",
       "    <tr>\n",
       "      <th>2</th>\n",
       "      <td>4.080000</td>\n",
       "      <td>repeater</td>\n",
       "    </tr>\n",
       "    <tr>\n",
       "      <th>3</th>\n",
       "      <td>5.160000</td>\n",
       "      <td>repeater</td>\n",
       "    </tr>\n",
       "    <tr>\n",
       "      <th>4</th>\n",
       "      <td>0.100000</td>\n",
       "      <td>repeater</td>\n",
       "    </tr>\n",
       "    <tr>\n",
       "      <th>...</th>\n",
       "      <td>...</td>\n",
       "      <td>...</td>\n",
       "    </tr>\n",
       "    <tr>\n",
       "      <th>113</th>\n",
       "      <td>22.975652</td>\n",
       "      <td>non_repeater</td>\n",
       "    </tr>\n",
       "    <tr>\n",
       "      <th>114</th>\n",
       "      <td>6.961764</td>\n",
       "      <td>non_repeater</td>\n",
       "    </tr>\n",
       "    <tr>\n",
       "      <th>115</th>\n",
       "      <td>24.254762</td>\n",
       "      <td>non_repeater</td>\n",
       "    </tr>\n",
       "    <tr>\n",
       "      <th>116</th>\n",
       "      <td>8.993350</td>\n",
       "      <td>non_repeater</td>\n",
       "    </tr>\n",
       "    <tr>\n",
       "      <th>117</th>\n",
       "      <td>9.370747</td>\n",
       "      <td>non_repeater</td>\n",
       "    </tr>\n",
       "  </tbody>\n",
       "</table>\n",
       "<p>127 rows × 2 columns</p>\n",
       "</div>"
      ],
      "text/plain": [
       "     intrinsic_width_ms        source\n",
       "0              4.780000      repeater\n",
       "1             23.430000      repeater\n",
       "2              4.080000      repeater\n",
       "3              5.160000      repeater\n",
       "4              0.100000      repeater\n",
       "..                  ...           ...\n",
       "113           22.975652  non_repeater\n",
       "114            6.961764  non_repeater\n",
       "115           24.254762  non_repeater\n",
       "116            8.993350  non_repeater\n",
       "117            9.370747  non_repeater\n",
       "\n",
       "[127 rows x 2 columns]"
      ]
     },
     "execution_count": 20,
     "metadata": {},
     "output_type": "execute_result"
    }
   ],
   "source": [
    "a = xianghan.rename(columns={'Intrinsic width (ms)':'intrinsic_width_ms', 'Sources': 'frb'})[['intrinsic_width_ms', 'frb']]\n",
    "b = frbcat.rename(columns={'frb_name':'frb'})[['intrinsic_width_ms', 'frb']]\n",
    "a['source'] = 'repeater'\n",
    "b['source'] = 'non_repeater'\n",
    "together = pd.concat([a,b])[['intrinsic_width_ms', 'source']]\n",
    "together"
   ]
  },
  {
   "cell_type": "code",
   "execution_count": 21,
   "metadata": {},
   "outputs": [
    {
     "data": {
      "text/plain": [
       "AndersonResult(statistic=11.225411788944001, critical_values=array([0.552, 0.628, 0.754, 0.879, 1.046]), significance_level=array([15. , 10. ,  5. ,  2.5,  1. ]))"
      ]
     },
     "execution_count": 21,
     "metadata": {},
     "output_type": "execute_result"
    }
   ],
   "source": [
    "anderson(selected_data['width'], dist='norm')"
   ]
  },
  {
   "cell_type": "code",
   "execution_count": 22,
   "metadata": {},
   "outputs": [],
   "source": [
    "# Luminosity\n",
    "\n",
    "import scipy\n",
    "\n",
    "Omega_m = 0.315\n",
    "Omega_Lambda = 0.685\n",
    "H_0 = 67.4 * 1000 * 100  # cm s^-1 Mpc^-1\n",
    "c = 29979245800  # cm s^-1\n",
    "Hubble_distance = c / H_0  # Mpc\n",
    "\n",
    "def comoving_distance_at_z(z):  # Mpc\n",
    "    zp1 = 1.0 + z\n",
    "    h0_up = np.sqrt(1 + Omega_m / Omega_Lambda) * scipy.special.hyp2f1(\n",
    "        1 / 3, 1 / 2, 4 / 3, -Omega_m / Omega_Lambda\n",
    "    )\n",
    "    hz_up = (\n",
    "        zp1\n",
    "        * np.sqrt(1 + Omega_m * zp1**3 / Omega_Lambda)\n",
    "        * scipy.special.hyp2f1(1 / 3, 1 / 2, 4 / 3, -Omega_m * zp1**3 / Omega_Lambda)\n",
    "    )\n",
    "    h0_down = np.sqrt(Omega_Lambda + Omega_m)\n",
    "    hz_down = np.sqrt(Omega_Lambda + Omega_m * zp1**3)\n",
    "    return Hubble_distance * (hz_up / hz_down - h0_up / h0_down)\n",
    "\n",
    "\n",
    "def luminosity_distance_at_z(z):  # Mpc\n",
    "    return (1.0 + z) * comoving_distance_at_z(z)\n",
    "\n",
    "def redshift_from_distance(distance):\n",
    "    return distance*H_0/c\n",
    "\n",
    "def brightness_temperature(flux, width, frequency, redshift) -> pd.DataFrame:\n",
    "    return (\n",
    "        1.1e35 * flux\n",
    "        * (width * 1000) ** (-2)\n",
    "        * (frequency / 1000) ** (-2)\n",
    "        * (luminosity_distance_at_z(redshift) / 1000) ** 2\n",
    "        / (1 + redshift)\n",
    "    )"
   ]
  },
  {
   "cell_type": "code",
   "execution_count": 23,
   "metadata": {},
   "outputs": [
    {
     "data": {
      "text/plain": [
       "<AxesSubplot: xlabel='luminosity', ylabel='Count'>"
      ]
     },
     "execution_count": 23,
     "metadata": {},
     "output_type": "execute_result"
    },
    {
     "data": {
      "image/png": "[encoded data removed]",
      "text/plain": [
       "<Figure size 640x480 with 1 Axes>"
      ]
     },
     "metadata": {},
     "output_type": "display_data"
    }
   ],
   "source": [
    "xianghan['luminosity'] = brightness_temperature(xianghan['Flux density (Jy)'], xianghan['Intrinsic width (ms)'], xianghan['Observed width (ms)'],redshift_from_distance(xianghan['Distance (Gpc)']*1000))\n",
    "\n",
    "sample = xianghan.dropna()\n",
    "\n",
    "sns.histplot(sample['luminosity'])"
   ]
  }
 ],
 "metadata": {
  "kernelspec": {
   "display_name": ".venv",
   "language": "python",
   "name": "python3"
  },
  "language_info": {
   "codemirror_mode": {
    "name": "ipython",
    "version": 3
   },
   "file_extension": ".py",
   "mimetype": "text/x-python",
   "name": "python",
   "nbconvert_exporter": "python",
   "pygments_lexer": "ipython3",
   "version": "3.8.10 (tags/v3.8.10:3d8993a, May  3 2021, 11:48:03) [MSC v.1928 64 bit (AMD64)]"
  },
  "orig_nbformat": 4,
  "vscode": {
   "interpreter": {
    "hash": "cb2370e8d3d2b1487010e24a0198f6b33af6458daeeee11246273e9b18a27dde"
   }
  }
 },
 "nbformat": 4,
 "nbformat_minor": 2
}
