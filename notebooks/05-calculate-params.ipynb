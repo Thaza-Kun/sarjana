{
 "cells": [
  {
   "cell_type": "markdown",
   "metadata": {},
   "source": [
    "---\n",
    "title: Parameter calculation of available data\n",
    "subtitle: Data is obtained from [FRBSTATS](https://www.herta-experiment.org/frbstats/)\n",
    "author: Murthadza Aznam\n",
    "date: '2022-11-24'\n",
    "---"
   ]
  },
  {
   "cell_type": "markdown",
   "metadata": {},
   "source": [
    ":::{.callout-note}\n",
    "\n",
    " 📌 Goal: This notebook tries to calculate some missing parameters from FRBSTATS using methods described in [Jia-Wei Luo (2022)](https://doi.org/10.1093/mnras/stac3206)\n",
    "\n",
    ":::"
   ]
  },
  {
   "cell_type": "code",
   "execution_count": 28,
   "metadata": {},
   "outputs": [],
   "source": [
    "from pathlib import Path\n",
    "\n",
    "import pandas as pd\n",
    "import numpy as np\n",
    "import scipy"
   ]
  },
  {
   "cell_type": "markdown",
   "metadata": {},
   "source": [
    "## 0. Getting The Data\n",
    "\n",
    "### 0.1 Source\n",
    "\n",
    "This notebook uses data from [FRBSTATS](https://www.herta-experiment.org/frbstats/)"
   ]
  },
  {
   "cell_type": "code",
   "execution_count": 2,
   "metadata": {},
   "outputs": [],
   "source": [
    "datapath = Path('..', 'data')\n",
    "external_datapath = Path(datapath, 'raw', 'external')"
   ]
  },
  {
   "cell_type": "code",
   "execution_count": 46,
   "metadata": {},
   "outputs": [
    {
     "name": "stdout",
     "output_type": "stream",
     "text": [
      "<class 'pandas.core.frame.DataFrame'>\n",
      "Int64Index: 636 entries, 0 to 813\n",
      "Data columns (total 22 columns):\n",
      " #   Column             Non-Null Count  Dtype  \n",
      "---  ------             --------------  -----  \n",
      " 0   frb                636 non-null    object \n",
      " 1   utc                636 non-null    object \n",
      " 2   mjd                636 non-null    float64\n",
      " 3   telescope          636 non-null    object \n",
      " 4   ra                 636 non-null    object \n",
      " 5   dec                636 non-null    object \n",
      " 6   l                  636 non-null    float64\n",
      " 7   b                  636 non-null    float64\n",
      " 8   frequency          636 non-null    float64\n",
      " 9   dm                 636 non-null    float64\n",
      " 10  flux               636 non-null    float64\n",
      " 11  width              634 non-null    float64\n",
      " 12  fluence            636 non-null    float64\n",
      " 13  snr                634 non-null    object \n",
      " 14  reference          636 non-null    object \n",
      " 15  redshift           636 non-null    float64\n",
      " 16  redshift_measured  16 non-null     object \n",
      " 17  ra_error           587 non-null    object \n",
      " 18  dec_error          587 non-null    object \n",
      " 19  dm_error           628 non-null    object \n",
      " 20  label              636 non-null    object \n",
      " 21  repeater           636 non-null    bool   \n",
      "dtypes: bool(1), float64(9), object(12)\n",
      "memory usage: 109.9+ KB\n"
     ]
    }
   ],
   "source": [
    "catalog: pd.DataFrame = pd.read_csv(Path(external_datapath, \"FRBSTATS2022-11-23_population.csv\")).replace(\"-\", None)\n",
    "# Labeling repeaters\n",
    "rptrs: pd.DataFrame = pd.read_csv(Path(external_datapath, \"FRBSTATS2022-11-23_repeaters.csv\"))\n",
    "catalog[\"label\"] = [\n",
    "    \"repeater\"\n",
    "    if name in [*rptrs[\"name\"].to_list(), *rptrs[\"samples\"].to_list()]\n",
    "    else \"non-repeater\"\n",
    "    for name in catalog[\"frb\"]\n",
    "]\n",
    "catalog[\"repeater\"] = [\n",
    "    False if name == \"non-repeater\" else True for name in catalog[\"label\"]\n",
    "]\n",
    "catalog = catalog.dropna(axis=0, subset=['flux', 'fluence', 'redshift', 'frequency']).astype({'flux': float, 'fluence': float, 'width': float, 'redshift': float})\n",
    "catalog.info()"
   ]
  },
  {
   "cell_type": "markdown",
   "metadata": {},
   "source": [
    "## 1. Parameters\n",
    "\n",
    "### 1.1 Brightness Temperature\n",
    "$$\n",
    "    T_B = \\frac{S_\\nu D_L^2}{2\\pi k_B (\\nu\\Delta t)^2(1+z)}\n",
    "$${#eq-brightness-temp}\n",
    "where:\n",
    "- $S_\\nu$ = peak specific flux, in Jy\n",
    "- $D_L$ = luminosity distance, in Gpc\n",
    "- $\\Delta t$ = burst duration, in ms\n",
    "- $\\nu$ = central frequency, in GHz\n",
    "- $k_B$ = Boltzmann constant\n",
    "- $z$ = redshift"
   ]
  },
  {
   "cell_type": "code",
   "execution_count": 47,
   "metadata": {},
   "outputs": [],
   "source": [
    "H_0 = 67.4*1000*100  # cm s^-1 Mpc^-1\n",
    "c = 29979245800 # cm s^-1\n",
    "Mpc_to_cm = 3.085677581491367E24\n",
    "Gyr_to_s = 3.15576E16\n",
    "Hubble_time = 1/(H_0 / Mpc_to_cm * Gyr_to_s)  # Gyr\n",
    "Hubble_distance = c/H_0  # Mpc\n",
    "Omega_b = 0.0224/((H_0)/1000/100/100)**2\n",
    "Omega_m = 0.315\n",
    "Omega_Lambda = 0.685\n",
    "f_IGM = 0.83\n",
    "chi = 7/8\n",
    "G = 6.6743e-8 # cm^3 g^-1 s^-2\n",
    "m_p = 1.67262192e-24 # g\n",
    "dm_factor = 3*c*H_0/(Mpc_to_cm)**2*1e6*Omega_b*f_IGM*chi/(8*np.pi*G*m_p)\n",
    "DM_host_lab = 70.0 # pc cm^-3\n",
    "DM_halo = 30.0\n",
    "\n",
    "def comoving_distance_at_z(z): # Mpc\n",
    "    zp1 = 1.0+z\n",
    "    h0_up = np.sqrt(1+Omega_m/Omega_Lambda) * scipy.special.hyp2f1(1/3,1/2,4/3,-Omega_m/Omega_Lambda)\n",
    "    hz_up = zp1 * np.sqrt(1+Omega_m*zp1**3/Omega_Lambda) * scipy.special.hyp2f1(1/3,1/2,4/3,-Omega_m*zp1**3/Omega_Lambda)\n",
    "    h0_down = np.sqrt(Omega_Lambda + Omega_m)\n",
    "    hz_down = np.sqrt(Omega_Lambda + Omega_m * zp1**3)\n",
    "    return Hubble_distance * (hz_up/hz_down-h0_up/h0_down)\n",
    "\n",
    "\n",
    "def luminosity_distance_at_z(z): # Mpc\n",
    "    return (1. + z) * comoving_distance_at_z(z)\n",
    "\n",
    "# ? I am not sure why it is log_10 of the value when there is none in formula?\n",
    "#   Maybe need to do some pen and paper.\n",
    "catalog['brightness_temperature'] = np.log10(1.1e35 \n",
    "                            * catalog['flux'] \n",
    "                            * (catalog['width']*1000)**(-2) \n",
    "                            * (catalog['frequency']/1000)**(-2) \n",
    "                            * (luminosity_distance_at_z(catalog['redshift'])/1000)**2 / (1+catalog['redshift'])\n",
    "                        )"
   ]
  },
  {
   "cell_type": "markdown",
   "metadata": {},
   "source": [
    "## 1.2 Redshift Corrected Frequency\n",
    "A redshift is calculated using:\n",
    "$$\n",
    "    1 + z = \\frac{f_\\text{emit}}{f_\\text{obs}}\n",
    "$$\n",
    "therefore, the emission frequency is:\n",
    "$$\n",
    "    f_\\text{emit} = f_\\text{obs}(1 + z)\n",
    "$$\n",
    "where we take the observed frequency to be the peak frequency."
   ]
  },
  {
   "cell_type": "code",
   "execution_count": 53,
   "metadata": {},
   "outputs": [],
   "source": [
    "catalog['rest_frequency'] = catalog['frequency'] * (1 + catalog['redshift'])"
   ]
  },
  {
   "cell_type": "markdown",
   "metadata": {},
   "source": [
    "## 1.3 Energy\n",
    "$$\n",
    "    E = 4\\pi \\frac{D_L^2 F \\nu_c}{1-z}\n",
    "$${#eq-burst-energy}\n",
    "where:\n",
    "- $E$ = energy, in erg\n",
    "- $F$ = fluence, in Jy ms\n",
    "- $\\nu_c$ = peak frequence, in MHz"
   ]
  },
  {
   "cell_type": "code",
   "execution_count": 77,
   "metadata": {},
   "outputs": [],
   "source": [
    "# TODO Check units of all these calculations\n",
    "catalog['energy'] = 1e-23 * catalog['frequency'] * 1e6 * catalog['fluence'] / 1000 * (4*np.pi*(luminosity_distance_at_z(catalog['redshift'])*Mpc_to_cm)**2) / (1+catalog['redshift'])"
   ]
  }
 ],
 "metadata": {
  "kernelspec": {
   "display_name": "Python 3.9.5 ('.venv': poetry)",
   "language": "python",
   "name": "python3"
  },
  "language_info": {
   "codemirror_mode": {
    "name": "ipython",
    "version": 3
   },
   "file_extension": ".py",
   "mimetype": "text/x-python",
   "name": "python",
   "nbconvert_exporter": "python",
   "pygments_lexer": "ipython3",
   "version": "3.9.5"
  },
  "orig_nbformat": 4,
  "vscode": {
   "interpreter": {
    "hash": "cb2370e8d3d2b1487010e24a0198f6b33af6458daeeee11246273e9b18a27dde"
   }
  }
 },
 "nbformat": 4,
 "nbformat_minor": 2
}
