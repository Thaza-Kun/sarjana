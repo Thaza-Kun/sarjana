{
 "cells": [
  {
   "cell_type": "code",
   "execution_count": 37,
   "metadata": {},
   "outputs": [
    {
     "ename": "ValueError",
     "evalue": "probabilities do not sum to 1",
     "output_type": "error",
     "traceback": [
      "\u001b[1;31m---------------------------------------------------------------------------\u001b[0m",
      "\u001b[1;31mValueError\u001b[0m                                Traceback (most recent call last)",
      "Cell \u001b[1;32mIn[37], line 7\u001b[0m\n\u001b[0;32m      5\u001b[0m n\u001b[39m=\u001b[39m\u001b[39m100\u001b[39m\n\u001b[0;32m      6\u001b[0m x \u001b[39m=\u001b[39m np\u001b[39m.\u001b[39mlinspace(\u001b[39m0\u001b[39m,\u001b[39m3\u001b[39m, n)\n\u001b[1;32m----> 7\u001b[0m y \u001b[39m=\u001b[39m np\u001b[39m.\u001b[39;49mrandom\u001b[39m.\u001b[39;49mchoice(x, size\u001b[39m=\u001b[39;49mn, p\u001b[39m=\u001b[39;49mnorm\u001b[39m.\u001b[39;49mpdf(x, loc\u001b[39m=\u001b[39;49m\u001b[39m2\u001b[39;49m))\n\u001b[0;32m      9\u001b[0m plt\u001b[39m.\u001b[39mplot(x, y)\n",
      "File \u001b[1;32mmtrand.pyx:974\u001b[0m, in \u001b[0;36mnumpy.random.mtrand.RandomState.choice\u001b[1;34m()\u001b[0m\n",
      "\u001b[1;31mValueError\u001b[0m: probabilities do not sum to 1"
     ]
    }
   ],
   "source": [
    "import numpy as np\n",
    "import matplotlib.pyplot as plt\n",
    "from scipy.stats import norm\n",
    "\n",
    "n=100\n",
    "x = np.linspace(0,3, n)\n",
    "y = np.random.choice(x, size=n, p=norm.pdf(x, loc=2))\n",
    "\n",
    "plt.plot(x, y)"
   ]
  }
 ],
 "metadata": {
  "kernelspec": {
   "display_name": ".venv",
   "language": "python",
   "name": "python3"
  },
  "language_info": {
   "codemirror_mode": {
    "name": "ipython",
    "version": 3
   },
   "file_extension": ".py",
   "mimetype": "text/x-python",
   "name": "python",
   "nbconvert_exporter": "python",
   "pygments_lexer": "ipython3",
   "version": "3.11.0rc1"
  },
  "orig_nbformat": 4
 },
 "nbformat": 4,
 "nbformat_minor": 2
}
